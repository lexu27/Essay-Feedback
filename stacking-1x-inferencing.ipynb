{
 "cells": [
  {
   "cell_type": "markdown",
   "id": "55ea3759",
   "metadata": {
    "id": "fFN1KR2XFZI8",
    "papermill": {
     "duration": 0.009573,
     "end_time": "2022-11-29T02:47:41.812960",
     "exception": false,
     "start_time": "2022-11-29T02:47:41.803387",
     "status": "completed"
    },
    "tags": []
   },
   "source": [
    "# Library Setup"
   ]
  },
  {
   "cell_type": "code",
   "execution_count": 1,
   "id": "76b10939",
   "metadata": {
    "execution": {
     "iopub.execute_input": "2022-11-29T02:47:41.831555Z",
     "iopub.status.busy": "2022-11-29T02:47:41.830884Z",
     "iopub.status.idle": "2022-11-29T02:47:49.483894Z",
     "shell.execute_reply": "2022-11-29T02:47:49.482602Z"
    },
    "papermill": {
     "duration": 7.664996,
     "end_time": "2022-11-29T02:47:49.486478",
     "exception": false,
     "start_time": "2022-11-29T02:47:41.821482",
     "status": "completed"
    },
    "tags": []
   },
   "outputs": [
    {
     "name": "stdout",
     "output_type": "stream",
     "text": [
      "Processing /kaggle/input/transformers-422/transformers-4.24.0-py3-none-any.whl\r\n",
      "Installing collected packages: transformers\r\n",
      "  Attempting uninstall: transformers\r\n",
      "    Found existing installation: transformers 4.20.1\r\n",
      "    Uninstalling transformers-4.20.1:\r\n",
      "      Successfully uninstalled transformers-4.20.1\r\n",
      "Successfully installed transformers-4.24.0\r\n",
      "\u001b[33mWARNING: Running pip as the 'root' user can result in broken permissions and conflicting behaviour with the system package manager. It is recommended to use a virtual environment instead: https://pip.pypa.io/warnings/venv\u001b[0m\u001b[33m\r\n",
      "\u001b[0m"
     ]
    }
   ],
   "source": [
    "!pip install --force-reinstall --no-deps --no-index /kaggle/input/transformers-422/transformers-4.24.0-py3-none-any.whl"
   ]
  },
  {
   "cell_type": "code",
   "execution_count": 2,
   "id": "4daef4e3",
   "metadata": {
    "execution": {
     "iopub.execute_input": "2022-11-29T02:47:49.506031Z",
     "iopub.status.busy": "2022-11-29T02:47:49.505374Z",
     "iopub.status.idle": "2022-11-29T02:47:58.105775Z",
     "shell.execute_reply": "2022-11-29T02:47:58.104748Z"
    },
    "id": "A4OW0qKyjzzY",
    "papermill": {
     "duration": 8.612701,
     "end_time": "2022-11-29T02:47:58.108223",
     "exception": false,
     "start_time": "2022-11-29T02:47:49.495522",
     "status": "completed"
    },
    "tags": []
   },
   "outputs": [],
   "source": [
    "# This Python 3 environment comes with many helpful analytics libraries installed\n",
    "# It is defined by the kaggle/python Docker image: https://github.com/kaggle/docker-python\n",
    "# For example, here's several helpful packages to load\n",
    "import numpy as np # linear algebra\n",
    "import pandas as pd # data processing, CSV file I/O (e.g. pd.read_csv)\n",
    "import pickle\n",
    "import transformers\n",
    "import os\n",
    "# Input data files are available in the read-only \"../input/\" directory\n",
    "# For example, running this (by clicking run or pressing Shift+Enter) will list all files under the input directory\n",
    "import glob\n",
    "import os\n",
    "import wandb\n",
    "import random\n",
    "import matplotlib.pyplot as plt\n",
    "import numpy as np\n",
    "from transformers import AdamW\n",
    "from text_unidecode import unidecode\n",
    "import torch\n",
    "from transformers import get_cosine_schedule_with_warmup\n",
    "from torch.utils.data import Dataset, DataLoader\n",
    "from transformers import AutoModel, AutoTokenizer, AutoConfig\n",
    "import re\n",
    "from torch.nn import Module\n",
    "import torch.nn as nn\n",
    "from collections import Counter, defaultdict\n",
    "from tqdm import tqdm\n",
    "import unicodedata\n",
    "from copy import deepcopy\n",
    "import sys\n",
    "import gc\n",
    "import codecs"
   ]
  },
  {
   "cell_type": "code",
   "execution_count": 3,
   "id": "e13933de",
   "metadata": {
    "execution": {
     "iopub.execute_input": "2022-11-29T02:47:58.128781Z",
     "iopub.status.busy": "2022-11-29T02:47:58.128199Z",
     "iopub.status.idle": "2022-11-29T02:47:58.136080Z",
     "shell.execute_reply": "2022-11-29T02:47:58.135195Z"
    },
    "papermill": {
     "duration": 0.019438,
     "end_time": "2022-11-29T02:47:58.137938",
     "exception": false,
     "start_time": "2022-11-29T02:47:58.118500",
     "status": "completed"
    },
    "tags": []
   },
   "outputs": [
    {
     "data": {
      "text/plain": [
       "'4.24.0'"
      ]
     },
     "execution_count": 3,
     "metadata": {},
     "output_type": "execute_result"
    }
   ],
   "source": [
    "transformers.__version__"
   ]
  },
  {
   "cell_type": "code",
   "execution_count": 4,
   "id": "aba26c78",
   "metadata": {
    "execution": {
     "iopub.execute_input": "2022-11-29T02:47:58.156565Z",
     "iopub.status.busy": "2022-11-29T02:47:58.156302Z",
     "iopub.status.idle": "2022-11-29T02:47:58.412821Z",
     "shell.execute_reply": "2022-11-29T02:47:58.411849Z"
    },
    "id": "lYX_09FZjzzc",
    "outputId": "6c51419c-5dd3-4b59-c768-1aeb98646b34",
    "papermill": {
     "duration": 0.268637,
     "end_time": "2022-11-29T02:47:58.415214",
     "exception": false,
     "start_time": "2022-11-29T02:47:58.146577",
     "status": "completed"
    },
    "tags": []
   },
   "outputs": [],
   "source": [
    "CFG1 = {\n",
    "    \"model_name\": \"../input/bigbirdrobertalarge/bigbird-roberta-large\",\n",
    "    \"type\": \"Other Models\",\n",
    "    \"targets\": ['cohesion', 'syntax', 'vocabulary', 'phraseology', 'grammar', 'conventions'],\n",
    "    \"weights\": \"../input/downloading-ell-bigbird\",\n",
    "    \"max_length\": 4096,\n",
    "    \"seed\": 42,\n",
    "    \"folds\": 4,\n",
    "    \"lr\": 2e-5, \n",
    "    \"batch_size\": 16,\n",
    "    \"num_warmup_steps\": 0.0,\n",
    "    \"grad_accum\": 1,\n",
    "    \"pooler\": None,\n",
    "    \"weight_decay\": 0.3,\n",
    "    \"grad_norm\": 1000,\n",
    "    \"dropout\": 0.0,\n",
    "    \"multisample\": False,\n",
    "    \"optimizer\": \"AdamW\",\n",
    "    \"scheduler\": \"linear\",\n",
    "}\n",
    "CFG1[\"tokenizer\"] = AutoTokenizer.from_pretrained(CFG1[\"model_name\"])"
   ]
  },
  {
   "cell_type": "code",
   "execution_count": 5,
   "id": "6792374a",
   "metadata": {
    "execution": {
     "iopub.execute_input": "2022-11-29T02:47:58.434536Z",
     "iopub.status.busy": "2022-11-29T02:47:58.434243Z",
     "iopub.status.idle": "2022-11-29T02:47:59.466029Z",
     "shell.execute_reply": "2022-11-29T02:47:59.464859Z"
    },
    "papermill": {
     "duration": 1.044189,
     "end_time": "2022-11-29T02:47:59.468554",
     "exception": false,
     "start_time": "2022-11-29T02:47:58.424365",
     "status": "completed"
    },
    "tags": []
   },
   "outputs": [
    {
     "name": "stderr",
     "output_type": "stream",
     "text": [
      "Special tokens have been added in the vocabulary, make sure the associated word embeddings are fine-tuned or trained.\n",
      "/opt/conda/lib/python3.7/site-packages/transformers/convert_slow_tokenizer.py:447: UserWarning: The sentencepiece tokenizer that you are converting to a fast tokenizer uses the byte fallback option which is not implemented in the fast tokenizers. In practice this means that the fast version of the tokenizer can produce unknown tokens whereas the sentencepiece version would have converted these unknown tokens into a sequence of byte tokens matching the original piece of text.\n",
      "  \"The sentencepiece tokenizer that you are converting to a fast tokenizer uses the byte fallback option\"\n",
      "Special tokens have been added in the vocabulary, make sure the associated word embeddings are fine-tuned or trained.\n"
     ]
    }
   ],
   "source": [
    "CFG2 = {\n",
    "    \"model_name\": \"../input/debertav3base\",\n",
    "    \"type\": \"Other Models\",\n",
    "    \"targets\": ['cohesion', 'syntax', 'vocabulary', 'phraseology', 'grammar', 'conventions'],\n",
    "    \"weights\": \"../input/downloading-ell-debertav3base-notebooks\",\n",
    "    \"max_length\": 512,\n",
    "    \"seed\": 42,\n",
    "    \"folds\": 4,\n",
    "    \"lr\": 2e-5, \n",
    "    \"batch_size\": 16,\n",
    "    \"num_warmup_steps\": 0.0,\n",
    "    \"grad_accum\": 1,\n",
    "    \"pooler\": None,\n",
    "    \"weight_decay\": 0.3,\n",
    "    \"grad_norm\": 1000,\n",
    "    \"dropout\": 0.0,\n",
    "    \"multisample\": False,\n",
    "    \"optimizer\": \"AdamW\",\n",
    "    \"scheduler\": \"linear\",\n",
    "}\n",
    "CFG2[\"tokenizer\"] = AutoTokenizer.from_pretrained(CFG2[\"model_name\"])"
   ]
  },
  {
   "cell_type": "code",
   "execution_count": 6,
   "id": "6be63690",
   "metadata": {
    "execution": {
     "iopub.execute_input": "2022-11-29T02:47:59.488173Z",
     "iopub.status.busy": "2022-11-29T02:47:59.487883Z",
     "iopub.status.idle": "2022-11-29T02:48:00.490247Z",
     "shell.execute_reply": "2022-11-29T02:48:00.488655Z"
    },
    "papermill": {
     "duration": 1.014798,
     "end_time": "2022-11-29T02:48:00.492676",
     "exception": false,
     "start_time": "2022-11-29T02:47:59.477878",
     "status": "completed"
    },
    "tags": []
   },
   "outputs": [
    {
     "name": "stderr",
     "output_type": "stream",
     "text": [
      "Special tokens have been added in the vocabulary, make sure the associated word embeddings are fine-tuned or trained.\n",
      "Special tokens have been added in the vocabulary, make sure the associated word embeddings are fine-tuned or trained.\n"
     ]
    }
   ],
   "source": [
    "CFG3 = {\n",
    "    \"model_name\": \"../input/deberta-v3-large/deberta-v3-large\",\n",
    "    \"type\": \"Other Models\",\n",
    "    \"targets\": ['cohesion', 'syntax', 'vocabulary', 'phraseology', 'grammar', 'conventions'],\n",
    "    \"weights\": \"../input/debertav3large-ell-download\",\n",
    "    \"max_length\": 512,\n",
    "    \"seed\": 42,\n",
    "    \"folds\": 4,\n",
    "    \"lr\": 2e-5, \n",
    "    \"batch_size\": 16,\n",
    "    \"epochs\": 20,\n",
    "    \"num_warmup_steps\": 0.0,\n",
    "    \"patience\": 6,\n",
    "    \"grad_accum\": 1,\n",
    "    \"pooler\": None,\n",
    "    \"weight_decay\": 0.3,\n",
    "    \"grad_norm\": 1000,\n",
    "    \"dropout\": 0.0,\n",
    "    \"multisample\": False,\n",
    "    \"optimizer\": \"AdamW\",\n",
    "    \"scheduler\": \"linear\",\n",
    "}\n",
    "CFG3[\"tokenizer\"] = AutoTokenizer.from_pretrained(CFG3[\"model_name\"])"
   ]
  },
  {
   "cell_type": "code",
   "execution_count": 7,
   "id": "7f43cbd9",
   "metadata": {
    "execution": {
     "iopub.execute_input": "2022-11-29T02:48:00.513334Z",
     "iopub.status.busy": "2022-11-29T02:48:00.512414Z",
     "iopub.status.idle": "2022-11-29T02:48:00.709325Z",
     "shell.execute_reply": "2022-11-29T02:48:00.708301Z"
    },
    "papermill": {
     "duration": 0.209904,
     "end_time": "2022-11-29T02:48:00.711965",
     "exception": false,
     "start_time": "2022-11-29T02:48:00.502061",
     "status": "completed"
    },
    "tags": []
   },
   "outputs": [],
   "source": [
    "CFG4 = {\n",
    "    \"model_name\": \"../input/allenailongformerbase4096/longformer\",\n",
    "    \"type\": \"Full Input\",\n",
    "    \"targets\": ['cohesion', 'syntax', 'vocabulary', 'phraseology', 'grammar', 'conventions'],\n",
    "    \"weights\": \"../input/downloading-ell-longformer\",\n",
    "    \"max_length\": 4096,\n",
    "    \"seed\": 42,\n",
    "    \"folds\": 4,\n",
    "    \"lr\": 2e-5, \n",
    "    \"batch_size\": 16,\n",
    "    \"epochs\": 32,\n",
    "    \"num_warmup_steps\": 0.0,\n",
    "    \"patience\": 6,\n",
    "    \"grad_accum\": 8,\n",
    "    \"pooler\": None,\n",
    "    \"weight_decay\": 0.3,\n",
    "    \"grad_norm\": 1000,\n",
    "    \"dropout\": 0.0,\n",
    "    \"multisample\": False,\n",
    "    \"optimizer\": \"AdamW\",\n",
    "    \"scheduler\": \"linear\",\n",
    "}\n",
    "CFG4[\"tokenizer\"] = AutoTokenizer.from_pretrained(CFG4[\"model_name\"])"
   ]
  },
  {
   "cell_type": "code",
   "execution_count": 8,
   "id": "41185fc1",
   "metadata": {
    "execution": {
     "iopub.execute_input": "2022-11-29T02:48:00.732520Z",
     "iopub.status.busy": "2022-11-29T02:48:00.731645Z",
     "iopub.status.idle": "2022-11-29T02:48:01.780523Z",
     "shell.execute_reply": "2022-11-29T02:48:01.778886Z"
    },
    "papermill": {
     "duration": 1.062201,
     "end_time": "2022-11-29T02:48:01.783666",
     "exception": false,
     "start_time": "2022-11-29T02:48:00.721465",
     "status": "completed"
    },
    "tags": []
   },
   "outputs": [
    {
     "name": "stderr",
     "output_type": "stream",
     "text": [
      "Special tokens have been added in the vocabulary, make sure the associated word embeddings are fine-tuned or trained.\n",
      "Special tokens have been added in the vocabulary, make sure the associated word embeddings are fine-tuned or trained.\n"
     ]
    }
   ],
   "source": [
    "CFG5 = {\n",
    "    \"model_name\": \"../input/deberta-v3-large/deberta-v3-large\",\n",
    "    \"type\": \"Other Models\",\n",
    "    \"targets\": ['cohesion', 'syntax', 'vocabulary', 'phraseology', 'grammar', 'conventions'],\n",
    "    \"weights\": \"../input/ell-pseudo-debertav3large-download\",\n",
    "    \"max_length\": 512,\n",
    "    \"seed\": 42,\n",
    "    \"folds\": 4,\n",
    "    \"lr\": 2e-5, \n",
    "    \"batch_size\": 16,\n",
    "    \"epochs\": 20,\n",
    "    \"num_warmup_steps\": 0.0,\n",
    "    \"patience\": 6,\n",
    "    \"grad_accum\": 1,\n",
    "    \"pooler\": None,\n",
    "    \"weight_decay\": 0.3,\n",
    "    \"grad_norm\": 1000,\n",
    "    \"dropout\": 0.0,\n",
    "    \"multisample\": False,\n",
    "    \"optimizer\": \"AdamW\",\n",
    "    \"scheduler\": \"linear\",\n",
    "}\n",
    "CFG5[\"tokenizer\"] = AutoTokenizer.from_pretrained(CFG5[\"model_name\"])"
   ]
  },
  {
   "cell_type": "code",
   "execution_count": 9,
   "id": "316a1ab6",
   "metadata": {
    "execution": {
     "iopub.execute_input": "2022-11-29T02:48:01.808530Z",
     "iopub.status.busy": "2022-11-29T02:48:01.807483Z",
     "iopub.status.idle": "2022-11-29T02:48:02.776471Z",
     "shell.execute_reply": "2022-11-29T02:48:02.775050Z"
    },
    "papermill": {
     "duration": 0.983612,
     "end_time": "2022-11-29T02:48:02.778963",
     "exception": false,
     "start_time": "2022-11-29T02:48:01.795351",
     "status": "completed"
    },
    "tags": []
   },
   "outputs": [
    {
     "name": "stderr",
     "output_type": "stream",
     "text": [
      "Special tokens have been added in the vocabulary, make sure the associated word embeddings are fine-tuned or trained.\n",
      "Special tokens have been added in the vocabulary, make sure the associated word embeddings are fine-tuned or trained.\n"
     ]
    }
   ],
   "source": [
    "CFG6 = {\n",
    "    \"model_name\": \"../input/debertav3base\",\n",
    "    \"type\": \"Attention Regression Head\",\n",
    "    \"targets\": ['cohesion', 'syntax', 'vocabulary', 'phraseology', 'grammar', 'conventions'],\n",
    "    \"weights\": \"../input/downloading-attention-regression-head-debertav3b\",\n",
    "    \"max_length\": 512,\n",
    "    \"seed\": 42,\n",
    "    \"folds\": 4,\n",
    "    \"lr\": 2e-5, \n",
    "    \"batch_size\": 16,\n",
    "    \"epochs\": 20,\n",
    "    \"num_warmup_steps\": 0.0,\n",
    "    \"patience\": 6,\n",
    "    \"grad_accum\": 1,\n",
    "    \"pooler\": \"attention\",\n",
    "    \"layer_start\": 1,\n",
    "    \"weight_decay\": 0.3,\n",
    "    \"grad_norm\": 1000,\n",
    "    \"hidden_dim\": 128,\n",
    "    \"dropout\": 0.0,\n",
    "    \"multisample\": False,\n",
    "    \"optimizer\": \"AdamW\",\n",
    "    \"scheduler\": \"linear\",\n",
    "}\n",
    "CFG6[\"tokenizer\"] = AutoTokenizer.from_pretrained(CFG6[\"model_name\"])"
   ]
  },
  {
   "cell_type": "code",
   "execution_count": 10,
   "id": "d500103d",
   "metadata": {
    "execution": {
     "iopub.execute_input": "2022-11-29T02:48:02.799717Z",
     "iopub.status.busy": "2022-11-29T02:48:02.799393Z",
     "iopub.status.idle": "2022-11-29T02:48:03.761553Z",
     "shell.execute_reply": "2022-11-29T02:48:03.759995Z"
    },
    "papermill": {
     "duration": 0.974883,
     "end_time": "2022-11-29T02:48:03.763788",
     "exception": false,
     "start_time": "2022-11-29T02:48:02.788905",
     "status": "completed"
    },
    "tags": []
   },
   "outputs": [
    {
     "name": "stderr",
     "output_type": "stream",
     "text": [
      "Special tokens have been added in the vocabulary, make sure the associated word embeddings are fine-tuned or trained.\n",
      "Special tokens have been added in the vocabulary, make sure the associated word embeddings are fine-tuned or trained.\n"
     ]
    }
   ],
   "source": [
    "CFG7 = {\n",
    "    \"model_name\": \"../input/debertav3base\",\n",
    "    \"type\": \"Weighted Regression Head\",\n",
    "    \"targets\": ['cohesion', 'syntax', 'vocabulary', 'phraseology', 'grammar', 'conventions'],\n",
    "    \"weights\": \"../input/downloading-weighted-head-debertav3base\",\n",
    "    \"max_length\": 512,\n",
    "    \"seed\": 42,\n",
    "    \"folds\": 4,\n",
    "    \"lr\": 2e-5, \n",
    "    \"batch_size\": 16,\n",
    "    \"epochs\": 20,\n",
    "    \"num_warmup_steps\": 0.0,\n",
    "    \"patience\": 6,\n",
    "    \"grad_accum\": 1,\n",
    "    \"pooler\": \"weighted\",\n",
    "    \"layer_start\": 9,\n",
    "    \"weight_decay\": 0.3,\n",
    "    \"grad_norm\": 1000,\n",
    "    \"dropout\": 0.0,\n",
    "    \"multisample\": False,\n",
    "    \"optimizer\": \"AdamW\",\n",
    "    \"scheduler\": \"linear\",\n",
    "}\n",
    "CFG7[\"tokenizer\"] = AutoTokenizer.from_pretrained(CFG7[\"model_name\"])"
   ]
  },
  {
   "cell_type": "code",
   "execution_count": 11,
   "id": "3d25202c",
   "metadata": {
    "execution": {
     "iopub.execute_input": "2022-11-29T02:48:03.786974Z",
     "iopub.status.busy": "2022-11-29T02:48:03.785293Z",
     "iopub.status.idle": "2022-11-29T02:48:04.740034Z",
     "shell.execute_reply": "2022-11-29T02:48:04.738523Z"
    },
    "papermill": {
     "duration": 0.969568,
     "end_time": "2022-11-29T02:48:04.743237",
     "exception": false,
     "start_time": "2022-11-29T02:48:03.773669",
     "status": "completed"
    },
    "tags": []
   },
   "outputs": [
    {
     "name": "stderr",
     "output_type": "stream",
     "text": [
      "Special tokens have been added in the vocabulary, make sure the associated word embeddings are fine-tuned or trained.\n",
      "Special tokens have been added in the vocabulary, make sure the associated word embeddings are fine-tuned or trained.\n"
     ]
    }
   ],
   "source": [
    "CFG8 = {\n",
    "    \"model_name\": \"../input/debertav3base\",\n",
    "    \"type\": \"Attention Regression Head + Multisample Dropout\",\n",
    "    \"targets\": ['cohesion', 'syntax', 'vocabulary', 'phraseology', 'grammar', 'conventions'],\n",
    "    \"weights\": \"../input/downloading-attention-multisample-debertav3base\",\n",
    "    \"max_length\": 512,\n",
    "    \"seed\": 42,\n",
    "    \"folds\": 4,\n",
    "    \"lr\": 2e-5, \n",
    "    \"batch_size\": 16,\n",
    "    \"epochs\": 20,\n",
    "    \"num_warmup_steps\": 0.0,\n",
    "    \"patience\": 6,\n",
    "    \"grad_accum\": 1,\n",
    "    \"pooler\": \"attention\",\n",
    "    \"layer_start\": 1,\n",
    "    \"weight_decay\": 0.3,\n",
    "    \"grad_norm\": 1000,\n",
    "    \"hidden_dim\": 128,\n",
    "    \"dropout\": 0.3,\n",
    "    \"multisample\": True,\n",
    "    \"optimizer\": \"AdamW\",\n",
    "    \"scheduler\": \"linear\",\n",
    "}\n",
    "CFG8[\"tokenizer\"] = AutoTokenizer.from_pretrained(CFG8[\"model_name\"])"
   ]
  },
  {
   "cell_type": "code",
   "execution_count": 12,
   "id": "1b5b7cdf",
   "metadata": {
    "execution": {
     "iopub.execute_input": "2022-11-29T02:48:04.764297Z",
     "iopub.status.busy": "2022-11-29T02:48:04.763999Z",
     "iopub.status.idle": "2022-11-29T02:48:05.724838Z",
     "shell.execute_reply": "2022-11-29T02:48:05.723847Z"
    },
    "papermill": {
     "duration": 0.973744,
     "end_time": "2022-11-29T02:48:05.727154",
     "exception": false,
     "start_time": "2022-11-29T02:48:04.753410",
     "status": "completed"
    },
    "tags": []
   },
   "outputs": [
    {
     "name": "stderr",
     "output_type": "stream",
     "text": [
      "Special tokens have been added in the vocabulary, make sure the associated word embeddings are fine-tuned or trained.\n",
      "Special tokens have been added in the vocabulary, make sure the associated word embeddings are fine-tuned or trained.\n"
     ]
    }
   ],
   "source": [
    "CFG9 = {\n",
    "    \"model_name\": \"../input/debertav3base\",\n",
    "    \"type\": \"Baseline L2 Loss\",\n",
    "    \"targets\": ['cohesion', 'syntax', 'vocabulary', 'phraseology', 'grammar', 'conventions'],\n",
    "    \"weights\": \"../input/downloading-debertav3b-l2\",\n",
    "    \"max_length\": 512,\n",
    "    \"seed\": 42,\n",
    "    \"folds\": 4,\n",
    "    \"lr\": 2e-5, \n",
    "    \"batch_size\": 16,\n",
    "    \"epochs\": 20,\n",
    "    \"num_warmup_steps\": 0.0,\n",
    "    \"patience\": 6,\n",
    "    \"grad_accum\": 1,\n",
    "    \"pooler\": None,\n",
    "    \"layer_start\": 9,\n",
    "    \"weight_decay\": 0.3,\n",
    "    \"dropout\": 0.0,\n",
    "    \"grad_norm\": 1000,\n",
    "    \"multisample\": False,\n",
    "    \"optimizer\": \"AdamW\",\n",
    "    \"scheduler\": \"linear\",\n",
    "}\n",
    "CFG9[\"tokenizer\"] = AutoTokenizer.from_pretrained(CFG9[\"model_name\"])"
   ]
  },
  {
   "cell_type": "code",
   "execution_count": 13,
   "id": "3dc360b2",
   "metadata": {
    "execution": {
     "iopub.execute_input": "2022-11-29T02:48:05.749162Z",
     "iopub.status.busy": "2022-11-29T02:48:05.748313Z",
     "iopub.status.idle": "2022-11-29T02:48:06.914535Z",
     "shell.execute_reply": "2022-11-29T02:48:06.913102Z"
    },
    "papermill": {
     "duration": 1.180295,
     "end_time": "2022-11-29T02:48:06.917738",
     "exception": false,
     "start_time": "2022-11-29T02:48:05.737443",
     "status": "completed"
    },
    "tags": []
   },
   "outputs": [
    {
     "name": "stderr",
     "output_type": "stream",
     "text": [
      "Special tokens have been added in the vocabulary, make sure the associated word embeddings are fine-tuned or trained.\n",
      "Special tokens have been added in the vocabulary, make sure the associated word embeddings are fine-tuned or trained.\n"
     ]
    }
   ],
   "source": [
    "CFG10 = {\n",
    "    \"model_name\": \"../input/deberta-v3-large/deberta-v3-large\",\n",
    "    \"type\": \"Smooth L1 Loss\",\n",
    "    \"targets\": ['cohesion', 'syntax', 'vocabulary', 'phraseology', 'grammar', 'conventions'],\n",
    "    \"weights\": \"/kaggle/input/downloading-debertav3large-smoothl1\",\n",
    "    \"max_length\": 512,\n",
    "    \"seed\": 42,\n",
    "    \"folds\": 4,\n",
    "    \"lr\": 2e-5, \n",
    "    \"batch_size\": 16,\n",
    "    \"epochs\": 20,\n",
    "    \"num_warmup_steps\": 0.0,\n",
    "    \"patience\": 6,\n",
    "    \"grad_accum\": 1,\n",
    "    \"pooler\": None,\n",
    "    \"layer_start\": 9,\n",
    "    \"weight_decay\": 0.3,\n",
    "    \"grad_norm\": 1000,\n",
    "    \"dropout\": 0.0,\n",
    "    \"multisample\": False,\n",
    "    \"oof_path\": \"deberta-v3-large-L1.csv\", \n",
    "    \"optimizer\": \"AdamW\",\n",
    "    \"scheduler\": \"linear\",\n",
    "}\n",
    "CFG10[\"tokenizer\"] = AutoTokenizer.from_pretrained(CFG10[\"model_name\"])"
   ]
  },
  {
   "cell_type": "code",
   "execution_count": 14,
   "id": "ca3d9a02",
   "metadata": {
    "execution": {
     "iopub.execute_input": "2022-11-29T02:48:06.949919Z",
     "iopub.status.busy": "2022-11-29T02:48:06.949515Z",
     "iopub.status.idle": "2022-11-29T02:48:08.005145Z",
     "shell.execute_reply": "2022-11-29T02:48:08.004124Z"
    },
    "papermill": {
     "duration": 1.073738,
     "end_time": "2022-11-29T02:48:08.007427",
     "exception": false,
     "start_time": "2022-11-29T02:48:06.933689",
     "status": "completed"
    },
    "tags": []
   },
   "outputs": [
    {
     "name": "stderr",
     "output_type": "stream",
     "text": [
      "Special tokens have been added in the vocabulary, make sure the associated word embeddings are fine-tuned or trained.\n",
      "Special tokens have been added in the vocabulary, make sure the associated word embeddings are fine-tuned or trained.\n"
     ]
    }
   ],
   "source": [
    "CFG11 = {\n",
    "    \"model_name\": \"../input/deberta-v3-large/deberta-v3-large\",\n",
    "    \"type\": \"L2 Loss\",\n",
    "    \"targets\": ['cohesion', 'syntax', 'vocabulary', 'phraseology', 'grammar', 'conventions'],\n",
    "    \"weights\": \"/kaggle/input/downloading-debertav3large-l2\",\n",
    "    \"max_length\": 512,\n",
    "    \"seed\": 42,\n",
    "    \"folds\": 4,\n",
    "    \"lr\": 2e-5, \n",
    "    \"batch_size\": 16,\n",
    "    \"epochs\": 20,\n",
    "    \"num_warmup_steps\": 0.0,\n",
    "    \"patience\": 6,\n",
    "    \"grad_accum\": 1,\n",
    "    \"pooler\": None,\n",
    "    \"layer_start\": 9,\n",
    "    \"weight_decay\": 0.3,\n",
    "    \"dropout\": 0.0,\n",
    "    \"grad_norm\": 1000,\n",
    "    \"multisample\": False,\n",
    "    \"oof_path\": \"deberta-v3-large-L2.csv\", \n",
    "    \"optimizer\": \"AdamW\",\n",
    "    \"scheduler\": \"linear\",\n",
    "}\n",
    "CFG11[\"tokenizer\"] = AutoTokenizer.from_pretrained(CFG11[\"model_name\"])"
   ]
  },
  {
   "cell_type": "code",
   "execution_count": 15,
   "id": "d1956620",
   "metadata": {
    "execution": {
     "iopub.execute_input": "2022-11-29T02:48:08.029094Z",
     "iopub.status.busy": "2022-11-29T02:48:08.028738Z",
     "iopub.status.idle": "2022-11-29T02:48:08.113532Z",
     "shell.execute_reply": "2022-11-29T02:48:08.112560Z"
    },
    "papermill": {
     "duration": 0.098395,
     "end_time": "2022-11-29T02:48:08.116146",
     "exception": false,
     "start_time": "2022-11-29T02:48:08.017751",
     "status": "completed"
    },
    "tags": []
   },
   "outputs": [],
   "source": [
    "CFG12 = {\n",
    "    \"model_name\": \"/kaggle/input/transformers/xlnet-large-cased\",\n",
    "    \"type\": \"Other Models\",\n",
    "    \"targets\": ['cohesion', 'syntax', 'vocabulary', 'phraseology', 'grammar', 'conventions'],\n",
    "    \"weights\": \"/kaggle/input/downloading-xlnet-large-l1\",\n",
    "    \"max_length\": 512,\n",
    "    \"seed\": 42,\n",
    "    \"folds\": 4,\n",
    "    \"lr\": 2e-5, \n",
    "    \"batch_size\": 16,\n",
    "    \"epochs\": 20,\n",
    "    \"num_warmup_steps\": 0.0,\n",
    "    \"patience\": 6,\n",
    "    \"grad_accum\": 1,\n",
    "    \"pooler\": None,\n",
    "    \"dropout\": 0.0,\n",
    "    \"weight_decay\": 0.3,\n",
    "    \"grad_norm\": 1000,\n",
    "    \"multisample\": False,\n",
    "    \"optimizer\": \"AdamW\",\n",
    "    \"scheduler\": \"linear\",\n",
    "}\n",
    "CFG12[\"tokenizer\"] = AutoTokenizer.from_pretrained(CFG12[\"model_name\"])"
   ]
  },
  {
   "cell_type": "code",
   "execution_count": 16,
   "id": "c8f2babe",
   "metadata": {
    "execution": {
     "iopub.execute_input": "2022-11-29T02:48:08.139139Z",
     "iopub.status.busy": "2022-11-29T02:48:08.137501Z",
     "iopub.status.idle": "2022-11-29T02:48:08.184729Z",
     "shell.execute_reply": "2022-11-29T02:48:08.183845Z"
    },
    "papermill": {
     "duration": 0.060525,
     "end_time": "2022-11-29T02:48:08.186925",
     "exception": false,
     "start_time": "2022-11-29T02:48:08.126400",
     "status": "completed"
    },
    "tags": []
   },
   "outputs": [],
   "source": [
    "CFG13 = {\n",
    "    \"model_name\": \"/kaggle/input/ernie20largeen/nghuyong/ernie-2.0-large-en\",\n",
    "    \"type\": \"Other Models\",\n",
    "    \"targets\": ['cohesion', 'syntax', 'vocabulary', 'phraseology', 'grammar', 'conventions'],\n",
    "    \"weights\": \"/kaggle/input/downloading-ernie-2-0-large\",\n",
    "    \"max_length\": 512,\n",
    "    \"seed\": 42,\n",
    "    \"folds\": 4,\n",
    "    \"lr\": 2e-5, \n",
    "    \"batch_size\": 16,\n",
    "    \"epochs\": 20,\n",
    "    \"num_warmup_steps\": 0.0,\n",
    "    \"patience\": 6,\n",
    "    \"grad_accum\": 1,\n",
    "    \"pooler\": None,\n",
    "    \"dropout\": 0.0,\n",
    "    \"weight_decay\": 0.3,\n",
    "    \"grad_norm\": 1000,\n",
    "    \"multisample\": False,\n",
    "    \"optimizer\": \"AdamW\",\n",
    "    \"scheduler\": \"linear\",\n",
    "}\n",
    "CFG13[\"tokenizer\"] = AutoTokenizer.from_pretrained(CFG13[\"model_name\"])"
   ]
  },
  {
   "cell_type": "code",
   "execution_count": 17,
   "id": "43fbc6ac",
   "metadata": {
    "execution": {
     "iopub.execute_input": "2022-11-29T02:48:08.209165Z",
     "iopub.status.busy": "2022-11-29T02:48:08.208353Z",
     "iopub.status.idle": "2022-11-29T02:48:09.185122Z",
     "shell.execute_reply": "2022-11-29T02:48:09.184138Z"
    },
    "papermill": {
     "duration": 0.990052,
     "end_time": "2022-11-29T02:48:09.187296",
     "exception": false,
     "start_time": "2022-11-29T02:48:08.197244",
     "status": "completed"
    },
    "tags": []
   },
   "outputs": [
    {
     "name": "stderr",
     "output_type": "stream",
     "text": [
      "Special tokens have been added in the vocabulary, make sure the associated word embeddings are fine-tuned or trained.\n",
      "Special tokens have been added in the vocabulary, make sure the associated word embeddings are fine-tuned or trained.\n"
     ]
    }
   ],
   "source": [
    "CFG14 = {\n",
    "    \"model_name\": \"../input/deberta-v3-large/deberta-v3-large\",\n",
    "    \"type\": \"DS Last\",\n",
    "    \"targets\": ['cohesion', 'syntax', 'vocabulary', 'phraseology', 'grammar', 'conventions'],\n",
    "    \"weights\": \"/kaggle/input/downloading-debertav3large-l1-ds-last\",\n",
    "    \"max_length\": 512,\n",
    "    \"seed\": 42,\n",
    "    \"folds\": 4,\n",
    "    \"lr\": 2e-5, \n",
    "    \"batch_size\": 4,\n",
    "    \"epochs\": 20,\n",
    "    \"num_warmup_steps\": 0.0,\n",
    "    \"patience\": 6,\n",
    "    \"grad_accum\": 4,\n",
    "    \"pooler\": \"DS Last\",\n",
    "    \"layer_start\": 9,\n",
    "    \"weight_decay\": 0.3,\n",
    "    \"grad_norm\": 1000,\n",
    "    \"aux_weight\": 0.5,\n",
    "    \"dropout\": 0.1,\n",
    "    \"multisample\": False,\n",
    "    \"oof_path\": \"deberta-v3-large-L1-DS-Last.csv\", \n",
    "    \"optimizer\": \"AdamW\",\n",
    "    \"scheduler\": \"linear\",\n",
    "}\n",
    "CFG14[\"tokenizer\"] = AutoTokenizer.from_pretrained(CFG14[\"model_name\"])"
   ]
  },
  {
   "cell_type": "code",
   "execution_count": 18,
   "id": "44a030ef",
   "metadata": {
    "execution": {
     "iopub.execute_input": "2022-11-29T02:48:09.210509Z",
     "iopub.status.busy": "2022-11-29T02:48:09.210193Z",
     "iopub.status.idle": "2022-11-29T02:48:10.159242Z",
     "shell.execute_reply": "2022-11-29T02:48:10.158226Z"
    },
    "papermill": {
     "duration": 0.963514,
     "end_time": "2022-11-29T02:48:10.161632",
     "exception": false,
     "start_time": "2022-11-29T02:48:09.198118",
     "status": "completed"
    },
    "tags": []
   },
   "outputs": [
    {
     "name": "stderr",
     "output_type": "stream",
     "text": [
      "Special tokens have been added in the vocabulary, make sure the associated word embeddings are fine-tuned or trained.\n",
      "Special tokens have been added in the vocabulary, make sure the associated word embeddings are fine-tuned or trained.\n"
     ]
    }
   ],
   "source": [
    "CFG15 = {\n",
    "    \"model_name\": \"../input/deberta-v3-large/deberta-v3-large\",\n",
    "    \"type\": \"DS All\",\n",
    "    \"targets\": ['cohesion', 'syntax', 'vocabulary', 'phraseology', 'grammar', 'conventions'],\n",
    "    \"weights\": \"/kaggle/input/downloading-debertav3large-l1-ds-all\",\n",
    "    \"max_length\": 512,\n",
    "    \"seed\": 42,\n",
    "    \"folds\": 4,\n",
    "    \"lr\": 2e-5, \n",
    "    \"batch_size\": 4,\n",
    "    \"epochs\": 20,\n",
    "    \"num_warmup_steps\": 0.0,\n",
    "    \"patience\": 6,\n",
    "    \"grad_accum\": 4,\n",
    "    \"pooler\": \"DS All\",\n",
    "    \"layer_start\": 9,\n",
    "    \"weight_decay\": 0.3,\n",
    "    \"grad_norm\": 1000,\n",
    "    \"aux_weight\": 0.5,\n",
    "    \"dropout\": 0.1,\n",
    "    \"multisample\": False,\n",
    "    \"oof_path\": \"deberta-v3-large-L1-DS-All.csv\", \n",
    "    \"optimizer\": \"AdamW\",\n",
    "    \"scheduler\": \"linear\",\n",
    "}\n",
    "CFG15[\"tokenizer\"] = AutoTokenizer.from_pretrained(CFG15[\"model_name\"])"
   ]
  },
  {
   "cell_type": "code",
   "execution_count": 19,
   "id": "b5102799",
   "metadata": {
    "execution": {
     "iopub.execute_input": "2022-11-29T02:48:10.185357Z",
     "iopub.status.busy": "2022-11-29T02:48:10.184435Z",
     "iopub.status.idle": "2022-11-29T02:48:11.137486Z",
     "shell.execute_reply": "2022-11-29T02:48:11.135731Z"
    },
    "papermill": {
     "duration": 0.967576,
     "end_time": "2022-11-29T02:48:11.140274",
     "exception": false,
     "start_time": "2022-11-29T02:48:10.172698",
     "status": "completed"
    },
    "tags": []
   },
   "outputs": [
    {
     "name": "stderr",
     "output_type": "stream",
     "text": [
      "Special tokens have been added in the vocabulary, make sure the associated word embeddings are fine-tuned or trained.\n",
      "Special tokens have been added in the vocabulary, make sure the associated word embeddings are fine-tuned or trained.\n"
     ]
    }
   ],
   "source": [
    "CFG16 = {\n",
    "    \"model_name\": \"../input/deberta-v3-large/deberta-v3-large\",\n",
    "    \"type\": \"DS MaxPool\",\n",
    "    \"targets\": ['cohesion', 'syntax', 'vocabulary', 'phraseology', 'grammar', 'conventions'],\n",
    "    \"weights\": \"/kaggle/input/downloading-debertav3large-l1-maxpool\",\n",
    "    \"max_length\": 512,\n",
    "    \"seed\": 42,\n",
    "    \"folds\": 4,\n",
    "    \"lr\": 2e-5, \n",
    "    \"batch_size\": 4,\n",
    "    \"epochs\": 20,\n",
    "    \"num_warmup_steps\": 0.0,\n",
    "    \"patience\": 6,\n",
    "    \"grad_accum\": 4,\n",
    "    \"pooler\": \"DS MaxPool\",\n",
    "    \"layer_start\": 9,\n",
    "    \"weight_decay\": 0.3,\n",
    "    \"grad_norm\": 1000,\n",
    "    \"aux_weight\": 0.5,\n",
    "    \"dropout\": 0.1,\n",
    "    \"multisample\": False,\n",
    "    \"oof_path\": \"deberta-v3-large-DS-MaxPool.csv\", \n",
    "    \"optimizer\": \"AdamW\",\n",
    "    \"scheduler\": \"linear\",\n",
    "}\n",
    "CFG16[\"tokenizer\"] = AutoTokenizer.from_pretrained(CFG16[\"model_name\"])"
   ]
  },
  {
   "cell_type": "code",
   "execution_count": 20,
   "id": "dc8b0ede",
   "metadata": {
    "execution": {
     "iopub.execute_input": "2022-11-29T02:48:11.164937Z",
     "iopub.status.busy": "2022-11-29T02:48:11.163250Z",
     "iopub.status.idle": "2022-11-29T02:48:11.220701Z",
     "shell.execute_reply": "2022-11-29T02:48:11.219732Z"
    },
    "papermill": {
     "duration": 0.071225,
     "end_time": "2022-11-29T02:48:11.222680",
     "exception": false,
     "start_time": "2022-11-29T02:48:11.151455",
     "status": "completed"
    },
    "tags": []
   },
   "outputs": [],
   "source": [
    "CFG17 = {\n",
    "    \"model_name\": \"/kaggle/input/transformers/funnel-transformer-large\",\n",
    "    \"type\": \"Smooth L1 Loss\",\n",
    "    \"targets\": ['cohesion', 'syntax', 'vocabulary', 'phraseology', 'grammar', 'conventions'],\n",
    "    \"weights\": \"/kaggle/input/downloading-funnel-l1\",\n",
    "    \"max_length\": 512,\n",
    "    \"seed\": 42,\n",
    "    \"folds\": 4,\n",
    "    \"lr\": 2e-5, \n",
    "    \"batch_size\": 16,\n",
    "    \"epochs\": 20,\n",
    "    \"num_warmup_steps\": 0.0,\n",
    "    \"patience\": 6,\n",
    "    \"grad_accum\": 1,\n",
    "    \"pooler\": None,\n",
    "    \"layer_start\": 9,\n",
    "    \"weight_decay\": 0.3,\n",
    "    \"dropout\": 0.0,\n",
    "    \"grad_norm\": 1000,\n",
    "    \"multisample\": False,\n",
    "    \"oof_path\": \"funnel-L1.csv\", \n",
    "    \"optimizer\": \"AdamW\",\n",
    "    \"scheduler\": \"linear\",\n",
    "}\n",
    "CFG17[\"tokenizer\"] = AutoTokenizer.from_pretrained(CFG17[\"model_name\"])"
   ]
  },
  {
   "cell_type": "markdown",
   "id": "0e6fc819",
   "metadata": {
    "id": "ekR23mjnezO7",
    "papermill": {
     "duration": 0.010431,
     "end_time": "2022-11-29T02:48:11.243980",
     "exception": false,
     "start_time": "2022-11-29T02:48:11.233549",
     "status": "completed"
    },
    "tags": []
   },
   "source": [
    "# Model Definition"
   ]
  },
  {
   "cell_type": "code",
   "execution_count": 21,
   "id": "bf996601",
   "metadata": {
    "execution": {
     "iopub.execute_input": "2022-11-29T02:48:11.267146Z",
     "iopub.status.busy": "2022-11-29T02:48:11.266110Z",
     "iopub.status.idle": "2022-11-29T02:48:11.274074Z",
     "shell.execute_reply": "2022-11-29T02:48:11.273110Z"
    },
    "papermill": {
     "duration": 0.021557,
     "end_time": "2022-11-29T02:48:11.276123",
     "exception": false,
     "start_time": "2022-11-29T02:48:11.254566",
     "status": "completed"
    },
    "tags": []
   },
   "outputs": [],
   "source": [
    "class WeightedLayerPooling(torch.nn.Module):\n",
    "    def __init__(self, num_hidden_layers, layer_start: int = 4, layer_weights = None):\n",
    "        super(WeightedLayerPooling, self).__init__()\n",
    "        self.layer_start = layer_start\n",
    "        self.num_hidden_layers = num_hidden_layers\n",
    "        self.layer_weights = layer_weights if layer_weights is not None \\\n",
    "            else nn.Parameter(\n",
    "                torch.tensor([1] * (num_hidden_layers+1 - layer_start), dtype=torch.float)\n",
    "            )\n",
    "\n",
    "    def forward(self, all_hidden_states):\n",
    "        all_layer_embedding = all_hidden_states[self.layer_start:, :, :, :]\n",
    "        weight_factor = self.layer_weights.unsqueeze(-1).unsqueeze(-1).unsqueeze(-1).expand(all_layer_embedding.size())\n",
    "        weighted_average = (weight_factor*all_layer_embedding).sum(dim=0) / self.layer_weights.sum()\n",
    "        return weighted_average\n",
    "    "
   ]
  },
  {
   "cell_type": "code",
   "execution_count": 22,
   "id": "d26a3832",
   "metadata": {
    "execution": {
     "iopub.execute_input": "2022-11-29T02:48:11.298304Z",
     "iopub.status.busy": "2022-11-29T02:48:11.298036Z",
     "iopub.status.idle": "2022-11-29T02:48:11.304380Z",
     "shell.execute_reply": "2022-11-29T02:48:11.303366Z"
    },
    "papermill": {
     "duration": 0.019916,
     "end_time": "2022-11-29T02:48:11.306565",
     "exception": false,
     "start_time": "2022-11-29T02:48:11.286649",
     "status": "completed"
    },
    "tags": []
   },
   "outputs": [],
   "source": [
    "class AttentionPooling(nn.Module):\n",
    "    def __init__(self, in_features, hidden_dim):\n",
    "        super().__init__()\n",
    "        self.in_features = in_features\n",
    "        self.W = nn.Linear(in_features, hidden_dim)\n",
    "        self.V = nn.Linear(hidden_dim, 1)\n",
    "        self.out_features = hidden_dim\n",
    "\n",
    "    def forward(self, features):\n",
    "        att = torch.tanh(self.W(features))\n",
    "        score = self.V(att)\n",
    "        attention_weights = torch.softmax(score, dim=0)\n",
    "        context_vector = attention_weights * features\n",
    "        context_vector = torch.sum(context_vector, dim=0)\n",
    "\n",
    "        return context_vector"
   ]
  },
  {
   "cell_type": "code",
   "execution_count": 23,
   "id": "6868098d",
   "metadata": {
    "execution": {
     "iopub.execute_input": "2022-11-29T02:48:11.329230Z",
     "iopub.status.busy": "2022-11-29T02:48:11.328959Z",
     "iopub.status.idle": "2022-11-29T02:48:11.356129Z",
     "shell.execute_reply": "2022-11-29T02:48:11.355154Z"
    },
    "id": "EIj0e07d8crC",
    "papermill": {
     "duration": 0.040725,
     "end_time": "2022-11-29T02:48:11.357889",
     "exception": false,
     "start_time": "2022-11-29T02:48:11.317164",
     "status": "completed"
    },
    "tags": []
   },
   "outputs": [],
   "source": [
    "#OBVIOUSLY, CHANGE THIS AS YOU NEED. USE SELF.LOG FOR ALL IMPORTANT METRICS\n",
    "class Model(nn.Module):\n",
    "    def __init__(self, config, vocab_length, data_loader_len):\n",
    "        super(Model, self).__init__()\n",
    "        self.config = config\n",
    "        self.vocab_length = vocab_length\n",
    "        self.base_model = AutoModel.from_pretrained(self.config['model_name'], output_hidden_states = True)  \n",
    "        self.base_model.resize_token_embeddings(vocab_length)\n",
    "        self.dropout = torch.nn.Dropout(p=CFG[\"dropout\"])\n",
    "        self.order = torch.LongTensor([5, 0, 1, 2, 3, 4]).cuda()\n",
    "        \n",
    "        if self.config[\"pooler\"] == \"weighted\":\n",
    "            self.pooler = WeightedLayerPooling(self.base_model.config.num_hidden_layers, layer_start = self.config[\"layer_start\"])  \n",
    "            self._init_weights(self.pooler.layer_weights)\n",
    "            \n",
    "        elif self.config[\"pooler\"] == \"attention\":\n",
    "            self.pooler = AttentionPooling(self.base_model.config.hidden_size, config[\"hidden_dim\"])\n",
    "\n",
    "        if self.config[\"multisample\"]:\n",
    "            self.dropout1 = nn.Dropout(0.1)\n",
    "            self.dropout2 = nn.Dropout(0.2)\n",
    "            self.dropout3 = nn.Dropout(0.3)\n",
    "            self.dropout4 = nn.Dropout(0.4)\n",
    "            self.dropout5 = nn.Dropout(0.5)\n",
    "            \n",
    "        self.dropout = nn.Dropout(self.config[\"dropout\"])\n",
    "        self.fc = nn.Linear(self.base_model.config.hidden_size, 6)\n",
    "        self._init_weights(self.fc)\n",
    "        \n",
    "        if config[\"pooler\"] == \"DS All\" or config[\"pooler\"] == \"DS MaxPool\":\n",
    "            self.fcs = nn.ModuleList([])\n",
    "            for _ in range(6):\n",
    "                layer = nn.Linear(self.base_model.config.hidden_size, 1)\n",
    "                self._init_weights(layer)\n",
    "                self.fcs.append(layer)\n",
    "        else:\n",
    "            self.fcs = nn.ModuleList([])\n",
    "            for _ in range(7):\n",
    "                layer = nn.Linear(self.base_model.config.hidden_size, 1)\n",
    "                self._init_weights(layer)\n",
    "                self.fcs.append(layer)\n",
    "        \n",
    "        self.data_loader_len = data_loader_len\n",
    "\n",
    "    def _init_weights(self, module):\n",
    "        if isinstance(module, nn.Linear):\n",
    "            module.weight.data.normal_(mean=0.0, std=self.base_model.config.initializer_range)\n",
    "            if module.bias is not None:\n",
    "                module.bias.data.zero_()\n",
    "        elif isinstance(module, nn.Embedding):\n",
    "            module.weight.data.normal_(mean=0.0, std=self.base_model.config.initializer_range)\n",
    "            if module.padding_idx is not None:\n",
    "                module.weight.data[module.padding_idx].zero_()\n",
    "        elif isinstance(module, nn.LayerNorm):\n",
    "            module.bias.data.zero_()\n",
    "            module.weight.data.fill_(1.0)\n",
    "\n",
    "    def feature(self, inputs):\n",
    "\n",
    "        if self.config[\"pooler\"] == \"weighted\":\n",
    "            input_ids, attention_mask = inputs[\"input_ids\"], inputs[\"attention_mask\"]\n",
    "        \n",
    "            x = self.base_model(input_ids = input_ids, attention_mask = attention_mask)[\"hidden_states\"]\n",
    "\n",
    "            x = torch.stack(x)\n",
    "            cls_embeddings = self.pooler(x)[:, 0]\n",
    "\n",
    "            return cls_embeddings\n",
    "        \n",
    "        \n",
    "        elif self.config[\"pooler\"] == \"DS Last\":\n",
    "            input_ids, attention_mask = inputs[\"input_ids\"], inputs[\"attention_mask\"]\n",
    "        \n",
    "            x = self.base_model(input_ids = input_ids, attention_mask = attention_mask)[\"hidden_states\"]\n",
    "\n",
    "            x = torch.stack(x)\n",
    "\n",
    "            # Last 6 layers\n",
    "            return x[-7:, :, :, :]\n",
    "        \n",
    "        elif self.config[\"pooler\"] == \"DS All\":\n",
    "            input_ids, attention_mask = inputs[\"input_ids\"], inputs[\"attention_mask\"]\n",
    "        \n",
    "            x = self.base_model(input_ids = input_ids, attention_mask = attention_mask)[\"hidden_states\"]\n",
    "\n",
    "            x = torch.stack(x)\n",
    "\n",
    "            # Last 6 layers\n",
    "            return x[-6:, :, :, :]\n",
    "        \n",
    "        elif self.config[\"pooler\"] == \"DS MaxPool\":\n",
    "            input_ids, attention_mask = inputs[\"input_ids\"], inputs[\"attention_mask\"]\n",
    "        \n",
    "            x = self.base_model(input_ids = input_ids, attention_mask = attention_mask)[\"hidden_states\"]\n",
    "\n",
    "            x = torch.stack(x)\n",
    "\n",
    "            # Last 6 layers\n",
    "            return x[-6:, :, :, :]\n",
    "            \n",
    "        else:\n",
    "            input_ids, attention_mask = inputs[\"input_ids\"], inputs[\"attention_mask\"]\n",
    "        \n",
    "            x = self.base_model(input_ids = input_ids, attention_mask = attention_mask)[\"last_hidden_state\"]\n",
    "\n",
    "            return x[:, 0, :]\n",
    "\n",
    "            \n",
    "    def forward(self, inputs):\n",
    "        \n",
    "        features = self.feature(inputs)\n",
    "        \n",
    "        if self.config[\"multisample\"]:\n",
    "            logits1 = self.fc(self.dropout1(features))\n",
    "            logits2 = self.fc(self.dropout2(features))\n",
    "            logits3 = self.fc(self.dropout3(features))\n",
    "            logits4 = self.fc(self.dropout4(features))\n",
    "            logits5 = self.fc(self.dropout5(features))\n",
    "\n",
    "            logits = (logits1 + logits2 + logits3 + logits4 + logits5) / 5\n",
    "            \n",
    "            return logits\n",
    "\n",
    "            \n",
    "        if self.config[\"pooler\"] == \"DS Last\":\n",
    "\n",
    "            outputs = []\n",
    "\n",
    "            for layer_num, layer in enumerate(features):\n",
    "\n",
    "                if layer_num == (len(features) - 1):\n",
    "                    pred = self.fc(self.dropout(layer[:, 0, :]))\n",
    "                    break\n",
    "            \n",
    "                outputs.append(self.fcs[layer_num](self.dropout(layer[:, 0, :])))\n",
    "\n",
    "            outputs = torch.stack(outputs)\n",
    "            \n",
    "            return pred\n",
    "        \n",
    "        elif self.config[\"pooler\"] == \"DS MaxPool\":\n",
    "\n",
    "            outputs = []\n",
    "\n",
    "            layers = []\n",
    "\n",
    "            for layer_num, layer in enumerate(features):\n",
    "                \n",
    "                layers.append(self.dropout(layer[:, 0, :]))\n",
    "                \n",
    "                outputs.append(self.fcs[layer_num](layers[-1]))\n",
    "\n",
    "            outputs = torch.stack(outputs)\n",
    "\n",
    "            layers = torch.stack(layers)\n",
    "\n",
    "            final_cls = torch.max(layers, dim = 0)[0]\n",
    "\n",
    "            pred = self.fc(final_cls)\n",
    "            \n",
    "            return pred\n",
    "        \n",
    "        elif self.config[\"pooler\"] == \"DS All\":\n",
    "\n",
    "            outputs = []\n",
    "\n",
    "            layers = []\n",
    "\n",
    "            for layer_num, layer in enumerate(features):\n",
    "                \n",
    "                layers.append(self.dropout(layer[:, 0, :]))\n",
    "                \n",
    "                outputs.append(self.fcs[layer_num](layers[-1]))\n",
    "            \n",
    "            outputs = torch.stack(outputs)\n",
    "\n",
    "            return torch.index_select(outputs.squeeze(-1).transpose(0,1), 1, self.order)\n",
    "        \n",
    "        else:\n",
    "            logits = self.fc(features)\n",
    "            \n",
    "            return logits\n",
    "            "
   ]
  },
  {
   "cell_type": "markdown",
   "id": "5e4d4c6d",
   "metadata": {
    "id": "kPPDgVLsjzzd",
    "papermill": {
     "duration": 0.012539,
     "end_time": "2022-11-29T02:48:11.389944",
     "exception": false,
     "start_time": "2022-11-29T02:48:11.377405",
     "status": "completed"
    },
    "tags": []
   },
   "source": [
    "# Dataset Classes"
   ]
  },
  {
   "cell_type": "code",
   "execution_count": 24,
   "id": "fec1473b",
   "metadata": {
    "execution": {
     "iopub.execute_input": "2022-11-29T02:48:11.414452Z",
     "iopub.status.busy": "2022-11-29T02:48:11.414145Z",
     "iopub.status.idle": "2022-11-29T02:48:11.428151Z",
     "shell.execute_reply": "2022-11-29T02:48:11.427055Z"
    },
    "id": "sTadJIpv1LGs",
    "papermill": {
     "duration": 0.028968,
     "end_time": "2022-11-29T02:48:11.430392",
     "exception": false,
     "start_time": "2022-11-29T02:48:11.401424",
     "status": "completed"
    },
    "tags": []
   },
   "outputs": [],
   "source": [
    "class TestData(Dataset):\n",
    "    def __init__(self, df, config, special_tokens = None):\n",
    "        self.df = df\n",
    "        self.esc_chars = ['\\\"', \"\\\\\", \"\\n\", \"\\r\", \"\\t\", \"\\b\", \"\\f\", \"\\v\", \":)\", \";)\", \":(\", \"uwu\", \"owo\", \"xd\", \":3\", \":-)\", \":D\", \">:(\", \"\\xa0\", \"\\x92\", \"\\x93\", \"\\x91\", \"\\x94\", \"\\x97\", \"x\\B4\", \"\\x96\", \"\\x82\", \"\\x84\"]\n",
    "        self.df[\"full_text\"] = self.df[\"full_text\"].apply(lambda text: self.resolve_encodings_and_normalize(text))\n",
    "\n",
    "        codecs.register_error(\"replace_encoding_with_utf8\", self.replace_encoding_with_utf8)\n",
    "        codecs.register_error(\"replace_decoding_with_cp1252\", self.replace_decoding_with_cp1252)\n",
    "\n",
    "    def replace_encoding_with_utf8(self, error):\n",
    "        return error.object[error.start : error.end].encode(\"utf-8\"), error.end\n",
    "\n",
    "\n",
    "    def replace_decoding_with_cp1252(self, error):\n",
    "        return error.object[error.start : error.end].decode(\"cp1252\"), error.end\n",
    "\n",
    "\n",
    "    def resolve_encodings_and_normalize(self, text: str) -> str:\n",
    "        text = (\n",
    "            text.encode(\"raw_unicode_escape\")\n",
    "            .decode(\"utf-8\", errors=\"replace_decoding_with_cp1252\")\n",
    "            .encode(\"cp1252\", errors=\"replace_encoding_with_utf8\")\n",
    "            .decode(\"utf-8\", errors=\"replace_decoding_with_cp1252\")\n",
    "        )\n",
    "        \n",
    "        text = unidecode(text)\n",
    "        \n",
    "        return self.remove_esc_chars(text)\n",
    "\n",
    "    def remove_esc_chars(self, text):\n",
    "        txt = deepcopy(text)\n",
    "        for char in self.esc_chars:\n",
    "            if char == '\\\"':\n",
    "                txt = txt.replace(char, '\"')\n",
    "            elif char == \"\\x92\" or char == \"\\x91\" or char == \"\\xB4\":\n",
    "                txt = txt.replace(char, \"'\")\n",
    "            elif char == \"\\0x93\" or char == \"\\0x94\":\n",
    "                txt = txt.replace(char, '\"')\n",
    "            elif char == \"\\0x97\" or char == \"\\0x96\":\n",
    "                txt = txt.replace(char, '-')\n",
    "            elif char == \"\\0x82\" or char == \"\\0x84\":\n",
    "                txt = txt.replace(char, ',')\n",
    "            else:\n",
    "                txt = txt.replace(char, ' ')\n",
    "        return txt\n",
    "\n",
    "    def __len__(self):\n",
    "        return len(self.df)\n",
    "\n",
    "    def __getitem__(self, idx):\n",
    "        return self.df.iloc[idx][\"full_text\"]"
   ]
  },
  {
   "cell_type": "code",
   "execution_count": 25,
   "id": "6d256fbe",
   "metadata": {
    "execution": {
     "iopub.execute_input": "2022-11-29T02:48:11.454001Z",
     "iopub.status.busy": "2022-11-29T02:48:11.453114Z",
     "iopub.status.idle": "2022-11-29T02:48:11.458608Z",
     "shell.execute_reply": "2022-11-29T02:48:11.457807Z"
    },
    "id": "WwuADIRbwAqs",
    "papermill": {
     "duration": 0.018924,
     "end_time": "2022-11-29T02:48:11.460627",
     "exception": false,
     "start_time": "2022-11-29T02:48:11.441703",
     "status": "completed"
    },
    "tags": []
   },
   "outputs": [],
   "source": [
    "def construct_collate_fn(config):\n",
    "    def collate_dynamic_padding(batch):\n",
    "        # Dynamic Padding tokenization\n",
    "        sentences = config[\"tokenizer\"](batch, padding=True, max_length = config[\"max_length\"], truncation = True, return_token_type_ids = False, return_tensors=\"pt\")\n",
    "        return sentences\n",
    "    \n",
    "    return collate_dynamic_padding"
   ]
  },
  {
   "cell_type": "code",
   "execution_count": 26,
   "id": "f29562cb",
   "metadata": {
    "execution": {
     "iopub.execute_input": "2022-11-29T02:48:11.483539Z",
     "iopub.status.busy": "2022-11-29T02:48:11.482783Z",
     "iopub.status.idle": "2022-11-29T02:48:11.488413Z",
     "shell.execute_reply": "2022-11-29T02:48:11.487569Z"
    },
    "id": "4lREk9P6jzzg",
    "papermill": {
     "duration": 0.018957,
     "end_time": "2022-11-29T02:48:11.490299",
     "exception": false,
     "start_time": "2022-11-29T02:48:11.471342",
     "status": "completed"
    },
    "tags": []
   },
   "outputs": [],
   "source": [
    "#CHANGE AS NEEDED. MOST OF THE TIME, PYTORCH'S DEFAULT COLLATOR IS ENOUGH.\n",
    "class DataModule():\n",
    "    def __init__(self, config, test, collate_fn):\n",
    "        self.config = config\n",
    "        self.test = test\n",
    "        self.collate_fn = collate_fn\n",
    "\n",
    "    def test_dataloader(self):\n",
    "        test_loader = DataLoader(self.test, batch_size = self.config[\"batch_size\"], collate_fn = self.collate_fn)      \n",
    "        return test_loader"
   ]
  },
  {
   "cell_type": "markdown",
   "id": "83a6960f",
   "metadata": {
    "id": "L8HsBZmivxSj",
    "papermill": {
     "duration": 0.010591,
     "end_time": "2022-11-29T02:48:11.511553",
     "exception": false,
     "start_time": "2022-11-29T02:48:11.500962",
     "status": "completed"
    },
    "tags": []
   },
   "source": [
    "# Inferencing"
   ]
  },
  {
   "cell_type": "code",
   "execution_count": 27,
   "id": "096050d0",
   "metadata": {
    "execution": {
     "iopub.execute_input": "2022-11-29T02:48:11.534841Z",
     "iopub.status.busy": "2022-11-29T02:48:11.534071Z",
     "iopub.status.idle": "2022-11-29T02:48:11.540091Z",
     "shell.execute_reply": "2022-11-29T02:48:11.539286Z"
    },
    "papermill": {
     "duration": 0.019473,
     "end_time": "2022-11-29T02:48:11.542009",
     "exception": false,
     "start_time": "2022-11-29T02:48:11.522536",
     "status": "completed"
    },
    "tags": []
   },
   "outputs": [],
   "source": [
    "def predict(model, loader):\n",
    "    outputs = []\n",
    "    device = torch.device('cuda')\n",
    "    model = model.to(device).eval()\n",
    "    with torch.no_grad():\n",
    "        for inputs in tqdm(loader):\n",
    "            for key, value in inputs.items():\n",
    "                inputs[key] = value.to(device)\n",
    "            predictions = model(inputs)\n",
    "            outputs.append(predictions)\n",
    "    return torch.cat(tuple(outputs))"
   ]
  },
  {
   "cell_type": "code",
   "execution_count": 28,
   "id": "f8fd3a81",
   "metadata": {
    "execution": {
     "iopub.execute_input": "2022-11-29T02:48:11.566032Z",
     "iopub.status.busy": "2022-11-29T02:48:11.564667Z",
     "iopub.status.idle": "2022-11-29T02:48:11.572055Z",
     "shell.execute_reply": "2022-11-29T02:48:11.571194Z"
    },
    "papermill": {
     "duration": 0.020793,
     "end_time": "2022-11-29T02:48:11.573897",
     "exception": false,
     "start_time": "2022-11-29T02:48:11.553104",
     "status": "completed"
    },
    "tags": []
   },
   "outputs": [],
   "source": [
    "def get_predictions(loader, num_preds, path, config, save_path):\n",
    "    predictions = []\n",
    "    for fold in range(num_preds):\n",
    "        \n",
    "        model = Model(config, len(config[\"tokenizer\"]), len(loader))\n",
    "        checkpoint = torch.load(f\"{path}/fold-{fold}.pt\", map_location=torch.device('cpu'))\n",
    "        model.load_state_dict(checkpoint['model_state_dict'], strict = False)               \n",
    "        \n",
    "        results = predict(model, loader)\n",
    "        \n",
    "        predictions.append(results.cpu().numpy())\n",
    "        \n",
    "        del model, checkpoint; gc.collect()\n",
    "        torch.cuda.empty_cache()\n",
    "    \n",
    "    predictions = np.mean(np.array(predictions), axis = 0)\n",
    "    df = pd.DataFrame(predictions, columns = CFG[\"targets\"])\n",
    "    df.to_csv(save_path)\n",
    "    \n",
    "    del predictions, df; gc.collect()"
   ]
  },
  {
   "cell_type": "code",
   "execution_count": 29,
   "id": "3e0b162d",
   "metadata": {
    "execution": {
     "iopub.execute_input": "2022-11-29T02:48:11.597759Z",
     "iopub.status.busy": "2022-11-29T02:48:11.596402Z",
     "iopub.status.idle": "2022-11-29T02:48:11.601550Z",
     "shell.execute_reply": "2022-11-29T02:48:11.600532Z"
    },
    "papermill": {
     "duration": 0.018593,
     "end_time": "2022-11-29T02:48:11.603448",
     "exception": false,
     "start_time": "2022-11-29T02:48:11.584855",
     "status": "completed"
    },
    "tags": []
   },
   "outputs": [],
   "source": [
    "CFGS = [CFG1, CFG2, CFG3, CFG4, CFG5, CFG6, CFG7, CFG8, CFG9, CFG10, CFG11, CFG12, CFG13, CFG14, CFG15, CFG16, CFG17]"
   ]
  },
  {
   "cell_type": "code",
   "execution_count": 30,
   "id": "079863fa",
   "metadata": {
    "execution": {
     "iopub.execute_input": "2022-11-29T02:48:11.626720Z",
     "iopub.status.busy": "2022-11-29T02:48:11.625883Z",
     "iopub.status.idle": "2022-11-29T03:37:40.216509Z",
     "shell.execute_reply": "2022-11-29T03:37:40.215541Z"
    },
    "papermill": {
     "duration": 2968.606844,
     "end_time": "2022-11-29T03:37:40.221124",
     "exception": false,
     "start_time": "2022-11-29T02:48:11.614280",
     "status": "completed"
    },
    "tags": []
   },
   "outputs": [
    {
     "name": "stderr",
     "output_type": "stream",
     "text": [
      "Some weights of the model checkpoint at ../input/bigbirdrobertalarge/bigbird-roberta-large were not used when initializing BigBirdModel: ['cls.predictions.transform.dense.bias', 'cls.predictions.transform.LayerNorm.bias', 'cls.predictions.transform.dense.weight', 'cls.seq_relationship.weight', 'cls.predictions.decoder.bias', 'cls.predictions.bias', 'cls.predictions.transform.LayerNorm.weight', 'cls.predictions.decoder.weight', 'cls.seq_relationship.bias']\n",
      "- This IS expected if you are initializing BigBirdModel from the checkpoint of a model trained on another task or with another architecture (e.g. initializing a BertForSequenceClassification model from a BertForPreTraining model).\n",
      "- This IS NOT expected if you are initializing BigBirdModel from the checkpoint of a model that you expect to be exactly identical (initializing a BertForSequenceClassification model from a BertForSequenceClassification model).\n",
      "  0%|          | 0/1 [00:00<?, ?it/s]/opt/conda/lib/python3.7/site-packages/transformers/models/big_bird/modeling_big_bird.py:979: UserWarning: __floordiv__ is deprecated, and its behavior will change in a future version of pytorch. It currently rounds toward 0 (like the 'trunc' function NOT 'floor'). This results in incorrect rounding for negative values. To keep the current behavior, use torch.div(a, b, rounding_mode='trunc'), or for actual floor division, use torch.div(a, b, rounding_mode='floor').\n",
      "  * num_indices_to_pick_from\n",
      "100%|██████████| 1/1 [00:01<00:00,  1.29s/it]\n",
      "Some weights of the model checkpoint at ../input/bigbirdrobertalarge/bigbird-roberta-large were not used when initializing BigBirdModel: ['cls.predictions.transform.dense.bias', 'cls.predictions.transform.LayerNorm.bias', 'cls.predictions.transform.dense.weight', 'cls.seq_relationship.weight', 'cls.predictions.decoder.bias', 'cls.predictions.bias', 'cls.predictions.transform.LayerNorm.weight', 'cls.predictions.decoder.weight', 'cls.seq_relationship.bias']\n",
      "- This IS expected if you are initializing BigBirdModel from the checkpoint of a model trained on another task or with another architecture (e.g. initializing a BertForSequenceClassification model from a BertForPreTraining model).\n",
      "- This IS NOT expected if you are initializing BigBirdModel from the checkpoint of a model that you expect to be exactly identical (initializing a BertForSequenceClassification model from a BertForSequenceClassification model).\n",
      "100%|██████████| 1/1 [00:00<00:00,  2.05it/s]\n",
      "Some weights of the model checkpoint at ../input/bigbirdrobertalarge/bigbird-roberta-large were not used when initializing BigBirdModel: ['cls.predictions.transform.dense.bias', 'cls.predictions.transform.LayerNorm.bias', 'cls.predictions.transform.dense.weight', 'cls.seq_relationship.weight', 'cls.predictions.decoder.bias', 'cls.predictions.bias', 'cls.predictions.transform.LayerNorm.weight', 'cls.predictions.decoder.weight', 'cls.seq_relationship.bias']\n",
      "- This IS expected if you are initializing BigBirdModel from the checkpoint of a model trained on another task or with another architecture (e.g. initializing a BertForSequenceClassification model from a BertForPreTraining model).\n",
      "- This IS NOT expected if you are initializing BigBirdModel from the checkpoint of a model that you expect to be exactly identical (initializing a BertForSequenceClassification model from a BertForSequenceClassification model).\n",
      "100%|██████████| 1/1 [00:00<00:00,  2.04it/s]\n",
      "Some weights of the model checkpoint at ../input/bigbirdrobertalarge/bigbird-roberta-large were not used when initializing BigBirdModel: ['cls.predictions.transform.dense.bias', 'cls.predictions.transform.LayerNorm.bias', 'cls.predictions.transform.dense.weight', 'cls.seq_relationship.weight', 'cls.predictions.decoder.bias', 'cls.predictions.bias', 'cls.predictions.transform.LayerNorm.weight', 'cls.predictions.decoder.weight', 'cls.seq_relationship.bias']\n",
      "- This IS expected if you are initializing BigBirdModel from the checkpoint of a model trained on another task or with another architecture (e.g. initializing a BertForSequenceClassification model from a BertForPreTraining model).\n",
      "- This IS NOT expected if you are initializing BigBirdModel from the checkpoint of a model that you expect to be exactly identical (initializing a BertForSequenceClassification model from a BertForSequenceClassification model).\n",
      "100%|██████████| 1/1 [00:00<00:00,  2.09it/s]\n",
      "Some weights of the model checkpoint at ../input/debertav3base were not used when initializing DebertaV2Model: ['mask_predictions.classifier.weight', 'lm_predictions.lm_head.dense.bias', 'lm_predictions.lm_head.bias', 'mask_predictions.dense.weight', 'mask_predictions.LayerNorm.weight', 'lm_predictions.lm_head.LayerNorm.weight', 'mask_predictions.dense.bias', 'lm_predictions.lm_head.dense.weight', 'lm_predictions.lm_head.LayerNorm.bias', 'mask_predictions.LayerNorm.bias', 'mask_predictions.classifier.bias']\n",
      "- This IS expected if you are initializing DebertaV2Model from the checkpoint of a model trained on another task or with another architecture (e.g. initializing a BertForSequenceClassification model from a BertForPreTraining model).\n",
      "- This IS NOT expected if you are initializing DebertaV2Model from the checkpoint of a model that you expect to be exactly identical (initializing a BertForSequenceClassification model from a BertForSequenceClassification model).\n",
      "100%|██████████| 1/1 [00:00<00:00,  4.75it/s]\n",
      "Some weights of the model checkpoint at ../input/debertav3base were not used when initializing DebertaV2Model: ['mask_predictions.classifier.weight', 'lm_predictions.lm_head.dense.bias', 'lm_predictions.lm_head.bias', 'mask_predictions.dense.weight', 'mask_predictions.LayerNorm.weight', 'lm_predictions.lm_head.LayerNorm.weight', 'mask_predictions.dense.bias', 'lm_predictions.lm_head.dense.weight', 'lm_predictions.lm_head.LayerNorm.bias', 'mask_predictions.LayerNorm.bias', 'mask_predictions.classifier.bias']\n",
      "- This IS expected if you are initializing DebertaV2Model from the checkpoint of a model trained on another task or with another architecture (e.g. initializing a BertForSequenceClassification model from a BertForPreTraining model).\n",
      "- This IS NOT expected if you are initializing DebertaV2Model from the checkpoint of a model that you expect to be exactly identical (initializing a BertForSequenceClassification model from a BertForSequenceClassification model).\n",
      "100%|██████████| 1/1 [00:00<00:00,  9.39it/s]\n",
      "Some weights of the model checkpoint at ../input/debertav3base were not used when initializing DebertaV2Model: ['mask_predictions.classifier.weight', 'lm_predictions.lm_head.dense.bias', 'lm_predictions.lm_head.bias', 'mask_predictions.dense.weight', 'mask_predictions.LayerNorm.weight', 'lm_predictions.lm_head.LayerNorm.weight', 'mask_predictions.dense.bias', 'lm_predictions.lm_head.dense.weight', 'lm_predictions.lm_head.LayerNorm.bias', 'mask_predictions.LayerNorm.bias', 'mask_predictions.classifier.bias']\n",
      "- This IS expected if you are initializing DebertaV2Model from the checkpoint of a model trained on another task or with another architecture (e.g. initializing a BertForSequenceClassification model from a BertForPreTraining model).\n",
      "- This IS NOT expected if you are initializing DebertaV2Model from the checkpoint of a model that you expect to be exactly identical (initializing a BertForSequenceClassification model from a BertForSequenceClassification model).\n",
      "100%|██████████| 1/1 [00:00<00:00,  9.82it/s]\n",
      "Some weights of the model checkpoint at ../input/debertav3base were not used when initializing DebertaV2Model: ['mask_predictions.classifier.weight', 'lm_predictions.lm_head.dense.bias', 'lm_predictions.lm_head.bias', 'mask_predictions.dense.weight', 'mask_predictions.LayerNorm.weight', 'lm_predictions.lm_head.LayerNorm.weight', 'mask_predictions.dense.bias', 'lm_predictions.lm_head.dense.weight', 'lm_predictions.lm_head.LayerNorm.bias', 'mask_predictions.LayerNorm.bias', 'mask_predictions.classifier.bias']\n",
      "- This IS expected if you are initializing DebertaV2Model from the checkpoint of a model trained on another task or with another architecture (e.g. initializing a BertForSequenceClassification model from a BertForPreTraining model).\n",
      "- This IS NOT expected if you are initializing DebertaV2Model from the checkpoint of a model that you expect to be exactly identical (initializing a BertForSequenceClassification model from a BertForSequenceClassification model).\n",
      "100%|██████████| 1/1 [00:00<00:00,  9.26it/s]\n",
      "Some weights of the model checkpoint at ../input/deberta-v3-large/deberta-v3-large were not used when initializing DebertaV2Model: ['mask_predictions.classifier.weight', 'lm_predictions.lm_head.dense.bias', 'lm_predictions.lm_head.bias', 'mask_predictions.dense.weight', 'mask_predictions.LayerNorm.weight', 'lm_predictions.lm_head.LayerNorm.weight', 'mask_predictions.dense.bias', 'lm_predictions.lm_head.dense.weight', 'lm_predictions.lm_head.LayerNorm.bias', 'mask_predictions.LayerNorm.bias', 'mask_predictions.classifier.bias']\n",
      "- This IS expected if you are initializing DebertaV2Model from the checkpoint of a model trained on another task or with another architecture (e.g. initializing a BertForSequenceClassification model from a BertForPreTraining model).\n",
      "- This IS NOT expected if you are initializing DebertaV2Model from the checkpoint of a model that you expect to be exactly identical (initializing a BertForSequenceClassification model from a BertForSequenceClassification model).\n",
      "100%|██████████| 1/1 [00:00<00:00,  3.26it/s]\n",
      "Some weights of the model checkpoint at ../input/deberta-v3-large/deberta-v3-large were not used when initializing DebertaV2Model: ['mask_predictions.classifier.weight', 'lm_predictions.lm_head.dense.bias', 'lm_predictions.lm_head.bias', 'mask_predictions.dense.weight', 'mask_predictions.LayerNorm.weight', 'lm_predictions.lm_head.LayerNorm.weight', 'mask_predictions.dense.bias', 'lm_predictions.lm_head.dense.weight', 'lm_predictions.lm_head.LayerNorm.bias', 'mask_predictions.LayerNorm.bias', 'mask_predictions.classifier.bias']\n",
      "- This IS expected if you are initializing DebertaV2Model from the checkpoint of a model trained on another task or with another architecture (e.g. initializing a BertForSequenceClassification model from a BertForPreTraining model).\n",
      "- This IS NOT expected if you are initializing DebertaV2Model from the checkpoint of a model that you expect to be exactly identical (initializing a BertForSequenceClassification model from a BertForSequenceClassification model).\n",
      "100%|██████████| 1/1 [00:00<00:00,  3.57it/s]\n",
      "Some weights of the model checkpoint at ../input/deberta-v3-large/deberta-v3-large were not used when initializing DebertaV2Model: ['mask_predictions.classifier.weight', 'lm_predictions.lm_head.dense.bias', 'lm_predictions.lm_head.bias', 'mask_predictions.dense.weight', 'mask_predictions.LayerNorm.weight', 'lm_predictions.lm_head.LayerNorm.weight', 'mask_predictions.dense.bias', 'lm_predictions.lm_head.dense.weight', 'lm_predictions.lm_head.LayerNorm.bias', 'mask_predictions.LayerNorm.bias', 'mask_predictions.classifier.bias']\n",
      "- This IS expected if you are initializing DebertaV2Model from the checkpoint of a model trained on another task or with another architecture (e.g. initializing a BertForSequenceClassification model from a BertForPreTraining model).\n",
      "- This IS NOT expected if you are initializing DebertaV2Model from the checkpoint of a model that you expect to be exactly identical (initializing a BertForSequenceClassification model from a BertForSequenceClassification model).\n",
      "100%|██████████| 1/1 [00:00<00:00,  3.56it/s]\n",
      "Some weights of the model checkpoint at ../input/deberta-v3-large/deberta-v3-large were not used when initializing DebertaV2Model: ['mask_predictions.classifier.weight', 'lm_predictions.lm_head.dense.bias', 'lm_predictions.lm_head.bias', 'mask_predictions.dense.weight', 'mask_predictions.LayerNorm.weight', 'lm_predictions.lm_head.LayerNorm.weight', 'mask_predictions.dense.bias', 'lm_predictions.lm_head.dense.weight', 'lm_predictions.lm_head.LayerNorm.bias', 'mask_predictions.LayerNorm.bias', 'mask_predictions.classifier.bias']\n",
      "- This IS expected if you are initializing DebertaV2Model from the checkpoint of a model trained on another task or with another architecture (e.g. initializing a BertForSequenceClassification model from a BertForPreTraining model).\n",
      "- This IS NOT expected if you are initializing DebertaV2Model from the checkpoint of a model that you expect to be exactly identical (initializing a BertForSequenceClassification model from a BertForSequenceClassification model).\n",
      "100%|██████████| 1/1 [00:00<00:00,  3.62it/s]\n",
      "100%|██████████| 1/1 [00:00<00:00,  6.33it/s]\n",
      "100%|██████████| 1/1 [00:00<00:00, 22.36it/s]\n",
      "100%|██████████| 1/1 [00:00<00:00, 31.62it/s]\n",
      "100%|██████████| 1/1 [00:00<00:00, 22.46it/s]\n",
      "Some weights of the model checkpoint at ../input/deberta-v3-large/deberta-v3-large were not used when initializing DebertaV2Model: ['mask_predictions.classifier.weight', 'lm_predictions.lm_head.dense.bias', 'lm_predictions.lm_head.bias', 'mask_predictions.dense.weight', 'mask_predictions.LayerNorm.weight', 'lm_predictions.lm_head.LayerNorm.weight', 'mask_predictions.dense.bias', 'lm_predictions.lm_head.dense.weight', 'lm_predictions.lm_head.LayerNorm.bias', 'mask_predictions.LayerNorm.bias', 'mask_predictions.classifier.bias']\n",
      "- This IS expected if you are initializing DebertaV2Model from the checkpoint of a model trained on another task or with another architecture (e.g. initializing a BertForSequenceClassification model from a BertForPreTraining model).\n",
      "- This IS NOT expected if you are initializing DebertaV2Model from the checkpoint of a model that you expect to be exactly identical (initializing a BertForSequenceClassification model from a BertForSequenceClassification model).\n",
      "100%|██████████| 1/1 [00:00<00:00,  3.26it/s]\n",
      "Some weights of the model checkpoint at ../input/deberta-v3-large/deberta-v3-large were not used when initializing DebertaV2Model: ['mask_predictions.classifier.weight', 'lm_predictions.lm_head.dense.bias', 'lm_predictions.lm_head.bias', 'mask_predictions.dense.weight', 'mask_predictions.LayerNorm.weight', 'lm_predictions.lm_head.LayerNorm.weight', 'mask_predictions.dense.bias', 'lm_predictions.lm_head.dense.weight', 'lm_predictions.lm_head.LayerNorm.bias', 'mask_predictions.LayerNorm.bias', 'mask_predictions.classifier.bias']\n",
      "- This IS expected if you are initializing DebertaV2Model from the checkpoint of a model trained on another task or with another architecture (e.g. initializing a BertForSequenceClassification model from a BertForPreTraining model).\n",
      "- This IS NOT expected if you are initializing DebertaV2Model from the checkpoint of a model that you expect to be exactly identical (initializing a BertForSequenceClassification model from a BertForSequenceClassification model).\n",
      "100%|██████████| 1/1 [00:00<00:00,  3.51it/s]\n",
      "Some weights of the model checkpoint at ../input/deberta-v3-large/deberta-v3-large were not used when initializing DebertaV2Model: ['mask_predictions.classifier.weight', 'lm_predictions.lm_head.dense.bias', 'lm_predictions.lm_head.bias', 'mask_predictions.dense.weight', 'mask_predictions.LayerNorm.weight', 'lm_predictions.lm_head.LayerNorm.weight', 'mask_predictions.dense.bias', 'lm_predictions.lm_head.dense.weight', 'lm_predictions.lm_head.LayerNorm.bias', 'mask_predictions.LayerNorm.bias', 'mask_predictions.classifier.bias']\n",
      "- This IS expected if you are initializing DebertaV2Model from the checkpoint of a model trained on another task or with another architecture (e.g. initializing a BertForSequenceClassification model from a BertForPreTraining model).\n",
      "- This IS NOT expected if you are initializing DebertaV2Model from the checkpoint of a model that you expect to be exactly identical (initializing a BertForSequenceClassification model from a BertForSequenceClassification model).\n",
      "100%|██████████| 1/1 [00:00<00:00,  3.60it/s]\n",
      "Some weights of the model checkpoint at ../input/deberta-v3-large/deberta-v3-large were not used when initializing DebertaV2Model: ['mask_predictions.classifier.weight', 'lm_predictions.lm_head.dense.bias', 'lm_predictions.lm_head.bias', 'mask_predictions.dense.weight', 'mask_predictions.LayerNorm.weight', 'lm_predictions.lm_head.LayerNorm.weight', 'mask_predictions.dense.bias', 'lm_predictions.lm_head.dense.weight', 'lm_predictions.lm_head.LayerNorm.bias', 'mask_predictions.LayerNorm.bias', 'mask_predictions.classifier.bias']\n",
      "- This IS expected if you are initializing DebertaV2Model from the checkpoint of a model trained on another task or with another architecture (e.g. initializing a BertForSequenceClassification model from a BertForPreTraining model).\n",
      "- This IS NOT expected if you are initializing DebertaV2Model from the checkpoint of a model that you expect to be exactly identical (initializing a BertForSequenceClassification model from a BertForSequenceClassification model).\n",
      "100%|██████████| 1/1 [00:00<00:00,  3.51it/s]\n",
      "Some weights of the model checkpoint at ../input/debertav3base were not used when initializing DebertaV2Model: ['mask_predictions.classifier.weight', 'lm_predictions.lm_head.dense.bias', 'lm_predictions.lm_head.bias', 'mask_predictions.dense.weight', 'mask_predictions.LayerNorm.weight', 'lm_predictions.lm_head.LayerNorm.weight', 'mask_predictions.dense.bias', 'lm_predictions.lm_head.dense.weight', 'lm_predictions.lm_head.LayerNorm.bias', 'mask_predictions.LayerNorm.bias', 'mask_predictions.classifier.bias']\n",
      "- This IS expected if you are initializing DebertaV2Model from the checkpoint of a model trained on another task or with another architecture (e.g. initializing a BertForSequenceClassification model from a BertForPreTraining model).\n",
      "- This IS NOT expected if you are initializing DebertaV2Model from the checkpoint of a model that you expect to be exactly identical (initializing a BertForSequenceClassification model from a BertForSequenceClassification model).\n",
      "100%|██████████| 1/1 [00:00<00:00,  9.53it/s]\n",
      "Some weights of the model checkpoint at ../input/debertav3base were not used when initializing DebertaV2Model: ['mask_predictions.classifier.weight', 'lm_predictions.lm_head.dense.bias', 'lm_predictions.lm_head.bias', 'mask_predictions.dense.weight', 'mask_predictions.LayerNorm.weight', 'lm_predictions.lm_head.LayerNorm.weight', 'mask_predictions.dense.bias', 'lm_predictions.lm_head.dense.weight', 'lm_predictions.lm_head.LayerNorm.bias', 'mask_predictions.LayerNorm.bias', 'mask_predictions.classifier.bias']\n",
      "- This IS expected if you are initializing DebertaV2Model from the checkpoint of a model trained on another task or with another architecture (e.g. initializing a BertForSequenceClassification model from a BertForPreTraining model).\n",
      "- This IS NOT expected if you are initializing DebertaV2Model from the checkpoint of a model that you expect to be exactly identical (initializing a BertForSequenceClassification model from a BertForSequenceClassification model).\n",
      "100%|██████████| 1/1 [00:00<00:00,  9.33it/s]\n",
      "Some weights of the model checkpoint at ../input/debertav3base were not used when initializing DebertaV2Model: ['mask_predictions.classifier.weight', 'lm_predictions.lm_head.dense.bias', 'lm_predictions.lm_head.bias', 'mask_predictions.dense.weight', 'mask_predictions.LayerNorm.weight', 'lm_predictions.lm_head.LayerNorm.weight', 'mask_predictions.dense.bias', 'lm_predictions.lm_head.dense.weight', 'lm_predictions.lm_head.LayerNorm.bias', 'mask_predictions.LayerNorm.bias', 'mask_predictions.classifier.bias']\n",
      "- This IS expected if you are initializing DebertaV2Model from the checkpoint of a model trained on another task or with another architecture (e.g. initializing a BertForSequenceClassification model from a BertForPreTraining model).\n",
      "- This IS NOT expected if you are initializing DebertaV2Model from the checkpoint of a model that you expect to be exactly identical (initializing a BertForSequenceClassification model from a BertForSequenceClassification model).\n",
      "100%|██████████| 1/1 [00:00<00:00,  8.98it/s]\n",
      "Some weights of the model checkpoint at ../input/debertav3base were not used when initializing DebertaV2Model: ['mask_predictions.classifier.weight', 'lm_predictions.lm_head.dense.bias', 'lm_predictions.lm_head.bias', 'mask_predictions.dense.weight', 'mask_predictions.LayerNorm.weight', 'lm_predictions.lm_head.LayerNorm.weight', 'mask_predictions.dense.bias', 'lm_predictions.lm_head.dense.weight', 'lm_predictions.lm_head.LayerNorm.bias', 'mask_predictions.LayerNorm.bias', 'mask_predictions.classifier.bias']\n",
      "- This IS expected if you are initializing DebertaV2Model from the checkpoint of a model trained on another task or with another architecture (e.g. initializing a BertForSequenceClassification model from a BertForPreTraining model).\n",
      "- This IS NOT expected if you are initializing DebertaV2Model from the checkpoint of a model that you expect to be exactly identical (initializing a BertForSequenceClassification model from a BertForSequenceClassification model).\n",
      "100%|██████████| 1/1 [00:00<00:00,  9.64it/s]\n",
      "Some weights of the model checkpoint at ../input/debertav3base were not used when initializing DebertaV2Model: ['mask_predictions.classifier.weight', 'lm_predictions.lm_head.dense.bias', 'lm_predictions.lm_head.bias', 'mask_predictions.dense.weight', 'mask_predictions.LayerNorm.weight', 'lm_predictions.lm_head.LayerNorm.weight', 'mask_predictions.dense.bias', 'lm_predictions.lm_head.dense.weight', 'lm_predictions.lm_head.LayerNorm.bias', 'mask_predictions.LayerNorm.bias', 'mask_predictions.classifier.bias']\n",
      "- This IS expected if you are initializing DebertaV2Model from the checkpoint of a model trained on another task or with another architecture (e.g. initializing a BertForSequenceClassification model from a BertForPreTraining model).\n",
      "- This IS NOT expected if you are initializing DebertaV2Model from the checkpoint of a model that you expect to be exactly identical (initializing a BertForSequenceClassification model from a BertForSequenceClassification model).\n",
      "100%|██████████| 1/1 [00:00<00:00,  8.54it/s]\n",
      "Some weights of the model checkpoint at ../input/debertav3base were not used when initializing DebertaV2Model: ['mask_predictions.classifier.weight', 'lm_predictions.lm_head.dense.bias', 'lm_predictions.lm_head.bias', 'mask_predictions.dense.weight', 'mask_predictions.LayerNorm.weight', 'lm_predictions.lm_head.LayerNorm.weight', 'mask_predictions.dense.bias', 'lm_predictions.lm_head.dense.weight', 'lm_predictions.lm_head.LayerNorm.bias', 'mask_predictions.LayerNorm.bias', 'mask_predictions.classifier.bias']\n",
      "- This IS expected if you are initializing DebertaV2Model from the checkpoint of a model trained on another task or with another architecture (e.g. initializing a BertForSequenceClassification model from a BertForPreTraining model).\n",
      "- This IS NOT expected if you are initializing DebertaV2Model from the checkpoint of a model that you expect to be exactly identical (initializing a BertForSequenceClassification model from a BertForSequenceClassification model).\n",
      "100%|██████████| 1/1 [00:00<00:00,  9.66it/s]\n",
      "Some weights of the model checkpoint at ../input/debertav3base were not used when initializing DebertaV2Model: ['mask_predictions.classifier.weight', 'lm_predictions.lm_head.dense.bias', 'lm_predictions.lm_head.bias', 'mask_predictions.dense.weight', 'mask_predictions.LayerNorm.weight', 'lm_predictions.lm_head.LayerNorm.weight', 'mask_predictions.dense.bias', 'lm_predictions.lm_head.dense.weight', 'lm_predictions.lm_head.LayerNorm.bias', 'mask_predictions.LayerNorm.bias', 'mask_predictions.classifier.bias']\n",
      "- This IS expected if you are initializing DebertaV2Model from the checkpoint of a model trained on another task or with another architecture (e.g. initializing a BertForSequenceClassification model from a BertForPreTraining model).\n",
      "- This IS NOT expected if you are initializing DebertaV2Model from the checkpoint of a model that you expect to be exactly identical (initializing a BertForSequenceClassification model from a BertForSequenceClassification model).\n",
      "100%|██████████| 1/1 [00:00<00:00,  9.69it/s]\n",
      "Some weights of the model checkpoint at ../input/debertav3base were not used when initializing DebertaV2Model: ['mask_predictions.classifier.weight', 'lm_predictions.lm_head.dense.bias', 'lm_predictions.lm_head.bias', 'mask_predictions.dense.weight', 'mask_predictions.LayerNorm.weight', 'lm_predictions.lm_head.LayerNorm.weight', 'mask_predictions.dense.bias', 'lm_predictions.lm_head.dense.weight', 'lm_predictions.lm_head.LayerNorm.bias', 'mask_predictions.LayerNorm.bias', 'mask_predictions.classifier.bias']\n",
      "- This IS expected if you are initializing DebertaV2Model from the checkpoint of a model trained on another task or with another architecture (e.g. initializing a BertForSequenceClassification model from a BertForPreTraining model).\n",
      "- This IS NOT expected if you are initializing DebertaV2Model from the checkpoint of a model that you expect to be exactly identical (initializing a BertForSequenceClassification model from a BertForSequenceClassification model).\n",
      "100%|██████████| 1/1 [00:00<00:00, 10.00it/s]\n",
      "Some weights of the model checkpoint at ../input/debertav3base were not used when initializing DebertaV2Model: ['mask_predictions.classifier.weight', 'lm_predictions.lm_head.dense.bias', 'lm_predictions.lm_head.bias', 'mask_predictions.dense.weight', 'mask_predictions.LayerNorm.weight', 'lm_predictions.lm_head.LayerNorm.weight', 'mask_predictions.dense.bias', 'lm_predictions.lm_head.dense.weight', 'lm_predictions.lm_head.LayerNorm.bias', 'mask_predictions.LayerNorm.bias', 'mask_predictions.classifier.bias']\n",
      "- This IS expected if you are initializing DebertaV2Model from the checkpoint of a model trained on another task or with another architecture (e.g. initializing a BertForSequenceClassification model from a BertForPreTraining model).\n",
      "- This IS NOT expected if you are initializing DebertaV2Model from the checkpoint of a model that you expect to be exactly identical (initializing a BertForSequenceClassification model from a BertForSequenceClassification model).\n",
      "100%|██████████| 1/1 [00:00<00:00,  9.30it/s]\n",
      "Some weights of the model checkpoint at ../input/debertav3base were not used when initializing DebertaV2Model: ['mask_predictions.classifier.weight', 'lm_predictions.lm_head.dense.bias', 'lm_predictions.lm_head.bias', 'mask_predictions.dense.weight', 'mask_predictions.LayerNorm.weight', 'lm_predictions.lm_head.LayerNorm.weight', 'mask_predictions.dense.bias', 'lm_predictions.lm_head.dense.weight', 'lm_predictions.lm_head.LayerNorm.bias', 'mask_predictions.LayerNorm.bias', 'mask_predictions.classifier.bias']\n",
      "- This IS expected if you are initializing DebertaV2Model from the checkpoint of a model trained on another task or with another architecture (e.g. initializing a BertForSequenceClassification model from a BertForPreTraining model).\n",
      "- This IS NOT expected if you are initializing DebertaV2Model from the checkpoint of a model that you expect to be exactly identical (initializing a BertForSequenceClassification model from a BertForSequenceClassification model).\n",
      "100%|██████████| 1/1 [00:00<00:00,  9.75it/s]\n",
      "Some weights of the model checkpoint at ../input/debertav3base were not used when initializing DebertaV2Model: ['mask_predictions.classifier.weight', 'lm_predictions.lm_head.dense.bias', 'lm_predictions.lm_head.bias', 'mask_predictions.dense.weight', 'mask_predictions.LayerNorm.weight', 'lm_predictions.lm_head.LayerNorm.weight', 'mask_predictions.dense.bias', 'lm_predictions.lm_head.dense.weight', 'lm_predictions.lm_head.LayerNorm.bias', 'mask_predictions.LayerNorm.bias', 'mask_predictions.classifier.bias']\n",
      "- This IS expected if you are initializing DebertaV2Model from the checkpoint of a model trained on another task or with another architecture (e.g. initializing a BertForSequenceClassification model from a BertForPreTraining model).\n",
      "- This IS NOT expected if you are initializing DebertaV2Model from the checkpoint of a model that you expect to be exactly identical (initializing a BertForSequenceClassification model from a BertForSequenceClassification model).\n",
      "100%|██████████| 1/1 [00:00<00:00, 10.51it/s]\n",
      "Some weights of the model checkpoint at ../input/debertav3base were not used when initializing DebertaV2Model: ['mask_predictions.classifier.weight', 'lm_predictions.lm_head.dense.bias', 'lm_predictions.lm_head.bias', 'mask_predictions.dense.weight', 'mask_predictions.LayerNorm.weight', 'lm_predictions.lm_head.LayerNorm.weight', 'mask_predictions.dense.bias', 'lm_predictions.lm_head.dense.weight', 'lm_predictions.lm_head.LayerNorm.bias', 'mask_predictions.LayerNorm.bias', 'mask_predictions.classifier.bias']\n",
      "- This IS expected if you are initializing DebertaV2Model from the checkpoint of a model trained on another task or with another architecture (e.g. initializing a BertForSequenceClassification model from a BertForPreTraining model).\n",
      "- This IS NOT expected if you are initializing DebertaV2Model from the checkpoint of a model that you expect to be exactly identical (initializing a BertForSequenceClassification model from a BertForSequenceClassification model).\n",
      "100%|██████████| 1/1 [00:00<00:00,  8.97it/s]\n",
      "Some weights of the model checkpoint at ../input/debertav3base were not used when initializing DebertaV2Model: ['mask_predictions.classifier.weight', 'lm_predictions.lm_head.dense.bias', 'lm_predictions.lm_head.bias', 'mask_predictions.dense.weight', 'mask_predictions.LayerNorm.weight', 'lm_predictions.lm_head.LayerNorm.weight', 'mask_predictions.dense.bias', 'lm_predictions.lm_head.dense.weight', 'lm_predictions.lm_head.LayerNorm.bias', 'mask_predictions.LayerNorm.bias', 'mask_predictions.classifier.bias']\n",
      "- This IS expected if you are initializing DebertaV2Model from the checkpoint of a model trained on another task or with another architecture (e.g. initializing a BertForSequenceClassification model from a BertForPreTraining model).\n",
      "- This IS NOT expected if you are initializing DebertaV2Model from the checkpoint of a model that you expect to be exactly identical (initializing a BertForSequenceClassification model from a BertForSequenceClassification model).\n",
      "100%|██████████| 1/1 [00:00<00:00, 10.02it/s]\n",
      "Some weights of the model checkpoint at ../input/debertav3base were not used when initializing DebertaV2Model: ['mask_predictions.classifier.weight', 'lm_predictions.lm_head.dense.bias', 'lm_predictions.lm_head.bias', 'mask_predictions.dense.weight', 'mask_predictions.LayerNorm.weight', 'lm_predictions.lm_head.LayerNorm.weight', 'mask_predictions.dense.bias', 'lm_predictions.lm_head.dense.weight', 'lm_predictions.lm_head.LayerNorm.bias', 'mask_predictions.LayerNorm.bias', 'mask_predictions.classifier.bias']\n",
      "- This IS expected if you are initializing DebertaV2Model from the checkpoint of a model trained on another task or with another architecture (e.g. initializing a BertForSequenceClassification model from a BertForPreTraining model).\n",
      "- This IS NOT expected if you are initializing DebertaV2Model from the checkpoint of a model that you expect to be exactly identical (initializing a BertForSequenceClassification model from a BertForSequenceClassification model).\n",
      "100%|██████████| 1/1 [00:00<00:00,  9.10it/s]\n",
      "Some weights of the model checkpoint at ../input/debertav3base were not used when initializing DebertaV2Model: ['mask_predictions.classifier.weight', 'lm_predictions.lm_head.dense.bias', 'lm_predictions.lm_head.bias', 'mask_predictions.dense.weight', 'mask_predictions.LayerNorm.weight', 'lm_predictions.lm_head.LayerNorm.weight', 'mask_predictions.dense.bias', 'lm_predictions.lm_head.dense.weight', 'lm_predictions.lm_head.LayerNorm.bias', 'mask_predictions.LayerNorm.bias', 'mask_predictions.classifier.bias']\n",
      "- This IS expected if you are initializing DebertaV2Model from the checkpoint of a model trained on another task or with another architecture (e.g. initializing a BertForSequenceClassification model from a BertForPreTraining model).\n",
      "- This IS NOT expected if you are initializing DebertaV2Model from the checkpoint of a model that you expect to be exactly identical (initializing a BertForSequenceClassification model from a BertForSequenceClassification model).\n",
      "100%|██████████| 1/1 [00:00<00:00, 10.18it/s]\n",
      "Some weights of the model checkpoint at ../input/debertav3base were not used when initializing DebertaV2Model: ['mask_predictions.classifier.weight', 'lm_predictions.lm_head.dense.bias', 'lm_predictions.lm_head.bias', 'mask_predictions.dense.weight', 'mask_predictions.LayerNorm.weight', 'lm_predictions.lm_head.LayerNorm.weight', 'mask_predictions.dense.bias', 'lm_predictions.lm_head.dense.weight', 'lm_predictions.lm_head.LayerNorm.bias', 'mask_predictions.LayerNorm.bias', 'mask_predictions.classifier.bias']\n",
      "- This IS expected if you are initializing DebertaV2Model from the checkpoint of a model trained on another task or with another architecture (e.g. initializing a BertForSequenceClassification model from a BertForPreTraining model).\n",
      "- This IS NOT expected if you are initializing DebertaV2Model from the checkpoint of a model that you expect to be exactly identical (initializing a BertForSequenceClassification model from a BertForSequenceClassification model).\n",
      "100%|██████████| 1/1 [00:00<00:00,  9.36it/s]\n",
      "Some weights of the model checkpoint at ../input/deberta-v3-large/deberta-v3-large were not used when initializing DebertaV2Model: ['mask_predictions.classifier.weight', 'lm_predictions.lm_head.dense.bias', 'lm_predictions.lm_head.bias', 'mask_predictions.dense.weight', 'mask_predictions.LayerNorm.weight', 'lm_predictions.lm_head.LayerNorm.weight', 'mask_predictions.dense.bias', 'lm_predictions.lm_head.dense.weight', 'lm_predictions.lm_head.LayerNorm.bias', 'mask_predictions.LayerNorm.bias', 'mask_predictions.classifier.bias']\n",
      "- This IS expected if you are initializing DebertaV2Model from the checkpoint of a model trained on another task or with another architecture (e.g. initializing a BertForSequenceClassification model from a BertForPreTraining model).\n",
      "- This IS NOT expected if you are initializing DebertaV2Model from the checkpoint of a model that you expect to be exactly identical (initializing a BertForSequenceClassification model from a BertForSequenceClassification model).\n",
      "100%|██████████| 1/1 [00:00<00:00,  3.55it/s]\n",
      "Some weights of the model checkpoint at ../input/deberta-v3-large/deberta-v3-large were not used when initializing DebertaV2Model: ['mask_predictions.classifier.weight', 'lm_predictions.lm_head.dense.bias', 'lm_predictions.lm_head.bias', 'mask_predictions.dense.weight', 'mask_predictions.LayerNorm.weight', 'lm_predictions.lm_head.LayerNorm.weight', 'mask_predictions.dense.bias', 'lm_predictions.lm_head.dense.weight', 'lm_predictions.lm_head.LayerNorm.bias', 'mask_predictions.LayerNorm.bias', 'mask_predictions.classifier.bias']\n",
      "- This IS expected if you are initializing DebertaV2Model from the checkpoint of a model trained on another task or with another architecture (e.g. initializing a BertForSequenceClassification model from a BertForPreTraining model).\n",
      "- This IS NOT expected if you are initializing DebertaV2Model from the checkpoint of a model that you expect to be exactly identical (initializing a BertForSequenceClassification model from a BertForSequenceClassification model).\n",
      "100%|██████████| 1/1 [00:00<00:00,  3.53it/s]\n",
      "Some weights of the model checkpoint at ../input/deberta-v3-large/deberta-v3-large were not used when initializing DebertaV2Model: ['mask_predictions.classifier.weight', 'lm_predictions.lm_head.dense.bias', 'lm_predictions.lm_head.bias', 'mask_predictions.dense.weight', 'mask_predictions.LayerNorm.weight', 'lm_predictions.lm_head.LayerNorm.weight', 'mask_predictions.dense.bias', 'lm_predictions.lm_head.dense.weight', 'lm_predictions.lm_head.LayerNorm.bias', 'mask_predictions.LayerNorm.bias', 'mask_predictions.classifier.bias']\n",
      "- This IS expected if you are initializing DebertaV2Model from the checkpoint of a model trained on another task or with another architecture (e.g. initializing a BertForSequenceClassification model from a BertForPreTraining model).\n",
      "- This IS NOT expected if you are initializing DebertaV2Model from the checkpoint of a model that you expect to be exactly identical (initializing a BertForSequenceClassification model from a BertForSequenceClassification model).\n",
      "100%|██████████| 1/1 [00:00<00:00,  3.52it/s]\n",
      "Some weights of the model checkpoint at ../input/deberta-v3-large/deberta-v3-large were not used when initializing DebertaV2Model: ['mask_predictions.classifier.weight', 'lm_predictions.lm_head.dense.bias', 'lm_predictions.lm_head.bias', 'mask_predictions.dense.weight', 'mask_predictions.LayerNorm.weight', 'lm_predictions.lm_head.LayerNorm.weight', 'mask_predictions.dense.bias', 'lm_predictions.lm_head.dense.weight', 'lm_predictions.lm_head.LayerNorm.bias', 'mask_predictions.LayerNorm.bias', 'mask_predictions.classifier.bias']\n",
      "- This IS expected if you are initializing DebertaV2Model from the checkpoint of a model trained on another task or with another architecture (e.g. initializing a BertForSequenceClassification model from a BertForPreTraining model).\n",
      "- This IS NOT expected if you are initializing DebertaV2Model from the checkpoint of a model that you expect to be exactly identical (initializing a BertForSequenceClassification model from a BertForSequenceClassification model).\n",
      "100%|██████████| 1/1 [00:00<00:00,  3.38it/s]\n",
      "Some weights of the model checkpoint at ../input/deberta-v3-large/deberta-v3-large were not used when initializing DebertaV2Model: ['mask_predictions.classifier.weight', 'lm_predictions.lm_head.dense.bias', 'lm_predictions.lm_head.bias', 'mask_predictions.dense.weight', 'mask_predictions.LayerNorm.weight', 'lm_predictions.lm_head.LayerNorm.weight', 'mask_predictions.dense.bias', 'lm_predictions.lm_head.dense.weight', 'lm_predictions.lm_head.LayerNorm.bias', 'mask_predictions.LayerNorm.bias', 'mask_predictions.classifier.bias']\n",
      "- This IS expected if you are initializing DebertaV2Model from the checkpoint of a model trained on another task or with another architecture (e.g. initializing a BertForSequenceClassification model from a BertForPreTraining model).\n",
      "- This IS NOT expected if you are initializing DebertaV2Model from the checkpoint of a model that you expect to be exactly identical (initializing a BertForSequenceClassification model from a BertForSequenceClassification model).\n",
      "100%|██████████| 1/1 [00:00<00:00,  3.02it/s]\n",
      "Some weights of the model checkpoint at ../input/deberta-v3-large/deberta-v3-large were not used when initializing DebertaV2Model: ['mask_predictions.classifier.weight', 'lm_predictions.lm_head.dense.bias', 'lm_predictions.lm_head.bias', 'mask_predictions.dense.weight', 'mask_predictions.LayerNorm.weight', 'lm_predictions.lm_head.LayerNorm.weight', 'mask_predictions.dense.bias', 'lm_predictions.lm_head.dense.weight', 'lm_predictions.lm_head.LayerNorm.bias', 'mask_predictions.LayerNorm.bias', 'mask_predictions.classifier.bias']\n",
      "- This IS expected if you are initializing DebertaV2Model from the checkpoint of a model trained on another task or with another architecture (e.g. initializing a BertForSequenceClassification model from a BertForPreTraining model).\n",
      "- This IS NOT expected if you are initializing DebertaV2Model from the checkpoint of a model that you expect to be exactly identical (initializing a BertForSequenceClassification model from a BertForSequenceClassification model).\n",
      "100%|██████████| 1/1 [00:00<00:00,  3.54it/s]\n",
      "Some weights of the model checkpoint at ../input/deberta-v3-large/deberta-v3-large were not used when initializing DebertaV2Model: ['mask_predictions.classifier.weight', 'lm_predictions.lm_head.dense.bias', 'lm_predictions.lm_head.bias', 'mask_predictions.dense.weight', 'mask_predictions.LayerNorm.weight', 'lm_predictions.lm_head.LayerNorm.weight', 'mask_predictions.dense.bias', 'lm_predictions.lm_head.dense.weight', 'lm_predictions.lm_head.LayerNorm.bias', 'mask_predictions.LayerNorm.bias', 'mask_predictions.classifier.bias']\n",
      "- This IS expected if you are initializing DebertaV2Model from the checkpoint of a model trained on another task or with another architecture (e.g. initializing a BertForSequenceClassification model from a BertForPreTraining model).\n",
      "- This IS NOT expected if you are initializing DebertaV2Model from the checkpoint of a model that you expect to be exactly identical (initializing a BertForSequenceClassification model from a BertForSequenceClassification model).\n",
      "100%|██████████| 1/1 [00:00<00:00,  3.50it/s]\n",
      "Some weights of the model checkpoint at ../input/deberta-v3-large/deberta-v3-large were not used when initializing DebertaV2Model: ['mask_predictions.classifier.weight', 'lm_predictions.lm_head.dense.bias', 'lm_predictions.lm_head.bias', 'mask_predictions.dense.weight', 'mask_predictions.LayerNorm.weight', 'lm_predictions.lm_head.LayerNorm.weight', 'mask_predictions.dense.bias', 'lm_predictions.lm_head.dense.weight', 'lm_predictions.lm_head.LayerNorm.bias', 'mask_predictions.LayerNorm.bias', 'mask_predictions.classifier.bias']\n",
      "- This IS expected if you are initializing DebertaV2Model from the checkpoint of a model trained on another task or with another architecture (e.g. initializing a BertForSequenceClassification model from a BertForPreTraining model).\n",
      "- This IS NOT expected if you are initializing DebertaV2Model from the checkpoint of a model that you expect to be exactly identical (initializing a BertForSequenceClassification model from a BertForSequenceClassification model).\n",
      "100%|██████████| 1/1 [00:00<00:00,  3.55it/s]\n",
      "Some weights of the model checkpoint at /kaggle/input/transformers/xlnet-large-cased were not used when initializing XLNetModel: ['lm_loss.weight', 'lm_loss.bias']\n",
      "- This IS expected if you are initializing XLNetModel from the checkpoint of a model trained on another task or with another architecture (e.g. initializing a BertForSequenceClassification model from a BertForPreTraining model).\n",
      "- This IS NOT expected if you are initializing XLNetModel from the checkpoint of a model that you expect to be exactly identical (initializing a BertForSequenceClassification model from a BertForSequenceClassification model).\n",
      "100%|██████████| 1/1 [00:00<00:00, 10.07it/s]\n",
      "Some weights of the model checkpoint at /kaggle/input/transformers/xlnet-large-cased were not used when initializing XLNetModel: ['lm_loss.weight', 'lm_loss.bias']\n",
      "- This IS expected if you are initializing XLNetModel from the checkpoint of a model trained on another task or with another architecture (e.g. initializing a BertForSequenceClassification model from a BertForPreTraining model).\n",
      "- This IS NOT expected if you are initializing XLNetModel from the checkpoint of a model that you expect to be exactly identical (initializing a BertForSequenceClassification model from a BertForSequenceClassification model).\n",
      "100%|██████████| 1/1 [00:00<00:00, 16.71it/s]\n",
      "Some weights of the model checkpoint at /kaggle/input/transformers/xlnet-large-cased were not used when initializing XLNetModel: ['lm_loss.weight', 'lm_loss.bias']\n",
      "- This IS expected if you are initializing XLNetModel from the checkpoint of a model trained on another task or with another architecture (e.g. initializing a BertForSequenceClassification model from a BertForPreTraining model).\n",
      "- This IS NOT expected if you are initializing XLNetModel from the checkpoint of a model that you expect to be exactly identical (initializing a BertForSequenceClassification model from a BertForSequenceClassification model).\n",
      "100%|██████████| 1/1 [00:00<00:00, 18.42it/s]\n",
      "Some weights of the model checkpoint at /kaggle/input/transformers/xlnet-large-cased were not used when initializing XLNetModel: ['lm_loss.weight', 'lm_loss.bias']\n",
      "- This IS expected if you are initializing XLNetModel from the checkpoint of a model trained on another task or with another architecture (e.g. initializing a BertForSequenceClassification model from a BertForPreTraining model).\n",
      "- This IS NOT expected if you are initializing XLNetModel from the checkpoint of a model that you expect to be exactly identical (initializing a BertForSequenceClassification model from a BertForSequenceClassification model).\n",
      "100%|██████████| 1/1 [00:00<00:00, 19.27it/s]\n",
      "100%|██████████| 1/1 [00:00<00:00, 19.76it/s]\n",
      "100%|██████████| 1/1 [00:00<00:00, 23.63it/s]\n",
      "100%|██████████| 1/1 [00:00<00:00, 25.71it/s]\n",
      "100%|██████████| 1/1 [00:00<00:00, 19.41it/s]\n",
      "Some weights of the model checkpoint at ../input/deberta-v3-large/deberta-v3-large were not used when initializing DebertaV2Model: ['mask_predictions.classifier.weight', 'lm_predictions.lm_head.dense.bias', 'lm_predictions.lm_head.bias', 'mask_predictions.dense.weight', 'mask_predictions.LayerNorm.weight', 'lm_predictions.lm_head.LayerNorm.weight', 'mask_predictions.dense.bias', 'lm_predictions.lm_head.dense.weight', 'lm_predictions.lm_head.LayerNorm.bias', 'mask_predictions.LayerNorm.bias', 'mask_predictions.classifier.bias']\n",
      "- This IS expected if you are initializing DebertaV2Model from the checkpoint of a model trained on another task or with another architecture (e.g. initializing a BertForSequenceClassification model from a BertForPreTraining model).\n",
      "- This IS NOT expected if you are initializing DebertaV2Model from the checkpoint of a model that you expect to be exactly identical (initializing a BertForSequenceClassification model from a BertForSequenceClassification model).\n",
      "100%|██████████| 1/1 [00:00<00:00,  3.22it/s]\n",
      "Some weights of the model checkpoint at ../input/deberta-v3-large/deberta-v3-large were not used when initializing DebertaV2Model: ['mask_predictions.classifier.weight', 'lm_predictions.lm_head.dense.bias', 'lm_predictions.lm_head.bias', 'mask_predictions.dense.weight', 'mask_predictions.LayerNorm.weight', 'lm_predictions.lm_head.LayerNorm.weight', 'mask_predictions.dense.bias', 'lm_predictions.lm_head.dense.weight', 'lm_predictions.lm_head.LayerNorm.bias', 'mask_predictions.LayerNorm.bias', 'mask_predictions.classifier.bias']\n",
      "- This IS expected if you are initializing DebertaV2Model from the checkpoint of a model trained on another task or with another architecture (e.g. initializing a BertForSequenceClassification model from a BertForPreTraining model).\n",
      "- This IS NOT expected if you are initializing DebertaV2Model from the checkpoint of a model that you expect to be exactly identical (initializing a BertForSequenceClassification model from a BertForSequenceClassification model).\n",
      "100%|██████████| 1/1 [00:00<00:00,  3.54it/s]\n",
      "Some weights of the model checkpoint at ../input/deberta-v3-large/deberta-v3-large were not used when initializing DebertaV2Model: ['mask_predictions.classifier.weight', 'lm_predictions.lm_head.dense.bias', 'lm_predictions.lm_head.bias', 'mask_predictions.dense.weight', 'mask_predictions.LayerNorm.weight', 'lm_predictions.lm_head.LayerNorm.weight', 'mask_predictions.dense.bias', 'lm_predictions.lm_head.dense.weight', 'lm_predictions.lm_head.LayerNorm.bias', 'mask_predictions.LayerNorm.bias', 'mask_predictions.classifier.bias']\n",
      "- This IS expected if you are initializing DebertaV2Model from the checkpoint of a model trained on another task or with another architecture (e.g. initializing a BertForSequenceClassification model from a BertForPreTraining model).\n",
      "- This IS NOT expected if you are initializing DebertaV2Model from the checkpoint of a model that you expect to be exactly identical (initializing a BertForSequenceClassification model from a BertForSequenceClassification model).\n",
      "100%|██████████| 1/1 [00:00<00:00,  3.53it/s]\n",
      "Some weights of the model checkpoint at ../input/deberta-v3-large/deberta-v3-large were not used when initializing DebertaV2Model: ['mask_predictions.classifier.weight', 'lm_predictions.lm_head.dense.bias', 'lm_predictions.lm_head.bias', 'mask_predictions.dense.weight', 'mask_predictions.LayerNorm.weight', 'lm_predictions.lm_head.LayerNorm.weight', 'mask_predictions.dense.bias', 'lm_predictions.lm_head.dense.weight', 'lm_predictions.lm_head.LayerNorm.bias', 'mask_predictions.LayerNorm.bias', 'mask_predictions.classifier.bias']\n",
      "- This IS expected if you are initializing DebertaV2Model from the checkpoint of a model trained on another task or with another architecture (e.g. initializing a BertForSequenceClassification model from a BertForPreTraining model).\n",
      "- This IS NOT expected if you are initializing DebertaV2Model from the checkpoint of a model that you expect to be exactly identical (initializing a BertForSequenceClassification model from a BertForSequenceClassification model).\n",
      "100%|██████████| 1/1 [00:00<00:00,  3.52it/s]\n",
      "Some weights of the model checkpoint at ../input/deberta-v3-large/deberta-v3-large were not used when initializing DebertaV2Model: ['mask_predictions.classifier.weight', 'lm_predictions.lm_head.dense.bias', 'lm_predictions.lm_head.bias', 'mask_predictions.dense.weight', 'mask_predictions.LayerNorm.weight', 'lm_predictions.lm_head.LayerNorm.weight', 'mask_predictions.dense.bias', 'lm_predictions.lm_head.dense.weight', 'lm_predictions.lm_head.LayerNorm.bias', 'mask_predictions.LayerNorm.bias', 'mask_predictions.classifier.bias']\n",
      "- This IS expected if you are initializing DebertaV2Model from the checkpoint of a model trained on another task or with another architecture (e.g. initializing a BertForSequenceClassification model from a BertForPreTraining model).\n",
      "- This IS NOT expected if you are initializing DebertaV2Model from the checkpoint of a model that you expect to be exactly identical (initializing a BertForSequenceClassification model from a BertForSequenceClassification model).\n",
      "100%|██████████| 1/1 [00:00<00:00,  3.42it/s]\n",
      "Some weights of the model checkpoint at ../input/deberta-v3-large/deberta-v3-large were not used when initializing DebertaV2Model: ['mask_predictions.classifier.weight', 'lm_predictions.lm_head.dense.bias', 'lm_predictions.lm_head.bias', 'mask_predictions.dense.weight', 'mask_predictions.LayerNorm.weight', 'lm_predictions.lm_head.LayerNorm.weight', 'mask_predictions.dense.bias', 'lm_predictions.lm_head.dense.weight', 'lm_predictions.lm_head.LayerNorm.bias', 'mask_predictions.LayerNorm.bias', 'mask_predictions.classifier.bias']\n",
      "- This IS expected if you are initializing DebertaV2Model from the checkpoint of a model trained on another task or with another architecture (e.g. initializing a BertForSequenceClassification model from a BertForPreTraining model).\n",
      "- This IS NOT expected if you are initializing DebertaV2Model from the checkpoint of a model that you expect to be exactly identical (initializing a BertForSequenceClassification model from a BertForSequenceClassification model).\n",
      "100%|██████████| 1/1 [00:00<00:00,  3.58it/s]\n",
      "Some weights of the model checkpoint at ../input/deberta-v3-large/deberta-v3-large were not used when initializing DebertaV2Model: ['mask_predictions.classifier.weight', 'lm_predictions.lm_head.dense.bias', 'lm_predictions.lm_head.bias', 'mask_predictions.dense.weight', 'mask_predictions.LayerNorm.weight', 'lm_predictions.lm_head.LayerNorm.weight', 'mask_predictions.dense.bias', 'lm_predictions.lm_head.dense.weight', 'lm_predictions.lm_head.LayerNorm.bias', 'mask_predictions.LayerNorm.bias', 'mask_predictions.classifier.bias']\n",
      "- This IS expected if you are initializing DebertaV2Model from the checkpoint of a model trained on another task or with another architecture (e.g. initializing a BertForSequenceClassification model from a BertForPreTraining model).\n",
      "- This IS NOT expected if you are initializing DebertaV2Model from the checkpoint of a model that you expect to be exactly identical (initializing a BertForSequenceClassification model from a BertForSequenceClassification model).\n",
      "100%|██████████| 1/1 [00:00<00:00,  3.51it/s]\n",
      "Some weights of the model checkpoint at ../input/deberta-v3-large/deberta-v3-large were not used when initializing DebertaV2Model: ['mask_predictions.classifier.weight', 'lm_predictions.lm_head.dense.bias', 'lm_predictions.lm_head.bias', 'mask_predictions.dense.weight', 'mask_predictions.LayerNorm.weight', 'lm_predictions.lm_head.LayerNorm.weight', 'mask_predictions.dense.bias', 'lm_predictions.lm_head.dense.weight', 'lm_predictions.lm_head.LayerNorm.bias', 'mask_predictions.LayerNorm.bias', 'mask_predictions.classifier.bias']\n",
      "- This IS expected if you are initializing DebertaV2Model from the checkpoint of a model trained on another task or with another architecture (e.g. initializing a BertForSequenceClassification model from a BertForPreTraining model).\n",
      "- This IS NOT expected if you are initializing DebertaV2Model from the checkpoint of a model that you expect to be exactly identical (initializing a BertForSequenceClassification model from a BertForSequenceClassification model).\n",
      "100%|██████████| 1/1 [00:00<00:00,  3.52it/s]\n",
      "Some weights of the model checkpoint at ../input/deberta-v3-large/deberta-v3-large were not used when initializing DebertaV2Model: ['mask_predictions.classifier.weight', 'lm_predictions.lm_head.dense.bias', 'lm_predictions.lm_head.bias', 'mask_predictions.dense.weight', 'mask_predictions.LayerNorm.weight', 'lm_predictions.lm_head.LayerNorm.weight', 'mask_predictions.dense.bias', 'lm_predictions.lm_head.dense.weight', 'lm_predictions.lm_head.LayerNorm.bias', 'mask_predictions.LayerNorm.bias', 'mask_predictions.classifier.bias']\n",
      "- This IS expected if you are initializing DebertaV2Model from the checkpoint of a model trained on another task or with another architecture (e.g. initializing a BertForSequenceClassification model from a BertForPreTraining model).\n",
      "- This IS NOT expected if you are initializing DebertaV2Model from the checkpoint of a model that you expect to be exactly identical (initializing a BertForSequenceClassification model from a BertForSequenceClassification model).\n",
      "100%|██████████| 1/1 [00:00<00:00,  3.26it/s]\n",
      "Some weights of the model checkpoint at ../input/deberta-v3-large/deberta-v3-large were not used when initializing DebertaV2Model: ['mask_predictions.classifier.weight', 'lm_predictions.lm_head.dense.bias', 'lm_predictions.lm_head.bias', 'mask_predictions.dense.weight', 'mask_predictions.LayerNorm.weight', 'lm_predictions.lm_head.LayerNorm.weight', 'mask_predictions.dense.bias', 'lm_predictions.lm_head.dense.weight', 'lm_predictions.lm_head.LayerNorm.bias', 'mask_predictions.LayerNorm.bias', 'mask_predictions.classifier.bias']\n",
      "- This IS expected if you are initializing DebertaV2Model from the checkpoint of a model trained on another task or with another architecture (e.g. initializing a BertForSequenceClassification model from a BertForPreTraining model).\n",
      "- This IS NOT expected if you are initializing DebertaV2Model from the checkpoint of a model that you expect to be exactly identical (initializing a BertForSequenceClassification model from a BertForSequenceClassification model).\n",
      "100%|██████████| 1/1 [00:00<00:00,  3.27it/s]\n",
      "Some weights of the model checkpoint at ../input/deberta-v3-large/deberta-v3-large were not used when initializing DebertaV2Model: ['mask_predictions.classifier.weight', 'lm_predictions.lm_head.dense.bias', 'lm_predictions.lm_head.bias', 'mask_predictions.dense.weight', 'mask_predictions.LayerNorm.weight', 'lm_predictions.lm_head.LayerNorm.weight', 'mask_predictions.dense.bias', 'lm_predictions.lm_head.dense.weight', 'lm_predictions.lm_head.LayerNorm.bias', 'mask_predictions.LayerNorm.bias', 'mask_predictions.classifier.bias']\n",
      "- This IS expected if you are initializing DebertaV2Model from the checkpoint of a model trained on another task or with another architecture (e.g. initializing a BertForSequenceClassification model from a BertForPreTraining model).\n",
      "- This IS NOT expected if you are initializing DebertaV2Model from the checkpoint of a model that you expect to be exactly identical (initializing a BertForSequenceClassification model from a BertForSequenceClassification model).\n",
      "100%|██████████| 1/1 [00:00<00:00,  3.51it/s]\n",
      "Some weights of the model checkpoint at ../input/deberta-v3-large/deberta-v3-large were not used when initializing DebertaV2Model: ['mask_predictions.classifier.weight', 'lm_predictions.lm_head.dense.bias', 'lm_predictions.lm_head.bias', 'mask_predictions.dense.weight', 'mask_predictions.LayerNorm.weight', 'lm_predictions.lm_head.LayerNorm.weight', 'mask_predictions.dense.bias', 'lm_predictions.lm_head.dense.weight', 'lm_predictions.lm_head.LayerNorm.bias', 'mask_predictions.LayerNorm.bias', 'mask_predictions.classifier.bias']\n",
      "- This IS expected if you are initializing DebertaV2Model from the checkpoint of a model trained on another task or with another architecture (e.g. initializing a BertForSequenceClassification model from a BertForPreTraining model).\n",
      "- This IS NOT expected if you are initializing DebertaV2Model from the checkpoint of a model that you expect to be exactly identical (initializing a BertForSequenceClassification model from a BertForSequenceClassification model).\n",
      "100%|██████████| 1/1 [00:00<00:00,  3.59it/s]\n",
      "  0%|          | 0/1 [00:00<?, ?it/s]/opt/conda/lib/python3.7/site-packages/torch/nn/functional.py:780: UserWarning: Note that order of the arguments: ceil_mode and return_indices will changeto match the args list in nn.MaxPool2d in a future release.\n",
      "  warnings.warn(\"Note that order of the arguments: ceil_mode and return_indices will change\"\n",
      "100%|██████████| 1/1 [00:00<00:00,  4.56it/s]\n",
      "100%|██████████| 1/1 [00:00<00:00,  5.82it/s]\n",
      "100%|██████████| 1/1 [00:00<00:00,  6.04it/s]\n",
      "100%|██████████| 1/1 [00:00<00:00,  6.03it/s]\n"
     ]
    }
   ],
   "source": [
    "models = ['bigbird-roberta-large', 'deberta-v3-baseline', 'deberta-v3-large', 'longformer-base', 'deberta-v3-large-psuedo', 'deberta-v3-base-attention-head', 'deberta-v3-base-weighted-head', 'deberta-v3-base-attention-multisample', 'deberta-v3-baseline-L2', \"deberta-v3-large-L1\", \"deberta-v3-large-L2\", \"xlnet-large-cased-L1\", \"ernie-2\", \"deberta-v3-large-L1-Last\", \"deberta-v3-large-L1-DS-All\", \"deberta-v3-large-DS-MaxPool\", \"funnel-L1\"]\n",
    "for num, CFG in enumerate(CFGS):\n",
    "    \n",
    "    data = pd.read_csv(f\"../input/feedback-prize-english-language-learning/test.csv\")\n",
    "\n",
    "    test = TestData(data, CFG)\n",
    "    dataset = DataModule(CFG, test, construct_collate_fn(CFG))\n",
    "    loader = dataset.test_dataloader()\n",
    "    \n",
    "    oof_name = f\"{models[num]}.csv\"\n",
    "\n",
    "    get_predictions(loader, num_preds = 4, path=CFG[\"weights\"], config = CFG, save_path = oof_name)\n",
    "    \n",
    "    del data, test, dataset, loader; gc.collect()"
   ]
  },
  {
   "cell_type": "markdown",
   "id": "42e97544",
   "metadata": {
    "papermill": {
     "duration": 0.026412,
     "end_time": "2022-11-29T03:37:40.276033",
     "exception": false,
     "start_time": "2022-11-29T03:37:40.249621",
     "status": "completed"
    },
    "tags": []
   },
   "source": [
    "# Stacking"
   ]
  },
  {
   "cell_type": "code",
   "execution_count": 31,
   "id": "f77ee6cf",
   "metadata": {
    "execution": {
     "iopub.execute_input": "2022-11-29T03:37:40.332209Z",
     "iopub.status.busy": "2022-11-29T03:37:40.331902Z",
     "iopub.status.idle": "2022-11-29T03:37:40.338318Z",
     "shell.execute_reply": "2022-11-29T03:37:40.337309Z"
    },
    "papermill": {
     "duration": 0.0374,
     "end_time": "2022-11-29T03:37:40.340406",
     "exception": false,
     "start_time": "2022-11-29T03:37:40.303006",
     "status": "completed"
    },
    "tags": []
   },
   "outputs": [],
   "source": [
    "CFG = {\n",
    "    \"model_name\": \"6x Linear\",\n",
    "    \"models\": [\n",
    "            \"deberta-v3-large-L1\",\n",
    "            \"deberta-v3-baseline-L2\",\n",
    "            \"deberta-v3-large\",\n",
    "            \"longformer-base\",\n",
    "            \"deberta-v3-large-psuedo\",\n",
    "            \"deberta-v3-baseline\",\n",
    "            \"deberta-v3-base-attention-head\",\n",
    "            \"deberta-v3-base-attention-multisample\",\n",
    "            \"bigbird-roberta-large\",\n",
    "            \"deberta-v3-base-weighted-head\",\n",
    "            \"ernie-2\",\n",
    "            \"funnel-L1\",\n",
    "            \"xlnet-large-cased-L1\",\n",
    "            \"deberta-v3-large-DS-MaxPool\",\n",
    "            \"deberta-v3-large-L1-Last\",\n",
    "            \"deberta-v3-large-L1-DS-All\",\n",
    "            \"deberta-v3-large-L2\"\n",
    "        ],\n",
    "    \"type\": \"Stacking\",\n",
    "    \"seed\": 42,\n",
    "    \"lr\": 1e-3,\n",
    "    \"final_div_factor\": 1e8,\n",
    "    \"batch_size\": 4,\n",
    "    \"epochs\": 20,\n",
    "    \"num_warmup_steps\": 0.0,\n",
    "    \"patience\": 5,\n",
    "    \"grad_accum\": 1,\n",
    "    \"weight_decay\": 0.01,\n",
    "    \n",
    "    \"optimizer\": \"one_cycle\",\n",
    "    \"scheduler\": \"linear\",\n",
    "}"
   ]
  },
  {
   "cell_type": "code",
   "execution_count": 32,
   "id": "7f4aecb1",
   "metadata": {
    "execution": {
     "iopub.execute_input": "2022-11-29T03:37:40.395464Z",
     "iopub.status.busy": "2022-11-29T03:37:40.395173Z",
     "iopub.status.idle": "2022-11-29T03:37:40.401609Z",
     "shell.execute_reply": "2022-11-29T03:37:40.400768Z"
    },
    "papermill": {
     "duration": 0.035949,
     "end_time": "2022-11-29T03:37:40.403503",
     "exception": false,
     "start_time": "2022-11-29T03:37:40.367554",
     "status": "completed"
    },
    "tags": []
   },
   "outputs": [],
   "source": [
    "#OBVIOUSLY, CHANGE THIS AS YOU NEED. USE SELF.LOG FOR ALL IMPORTANT METRICS\n",
    "class Stacker(nn.Module):\n",
    "    def __init__(self, config, data_loader_len):\n",
    "        super(Stacker, self).__init__()\n",
    "        self.config = config\n",
    "        \n",
    "        self.fc = nn.Linear(len(self.config[\"models\"]), 1)\n",
    "\n",
    "        self.data_loader_len = data_loader_len\n",
    "\n",
    "    def forward(self, inputs):\n",
    "\n",
    "        return self.fc(inputs)"
   ]
  },
  {
   "cell_type": "code",
   "execution_count": 33,
   "id": "deda1760",
   "metadata": {
    "execution": {
     "iopub.execute_input": "2022-11-29T03:37:40.458027Z",
     "iopub.status.busy": "2022-11-29T03:37:40.457715Z",
     "iopub.status.idle": "2022-11-29T03:37:40.464302Z",
     "shell.execute_reply": "2022-11-29T03:37:40.463460Z"
    },
    "papermill": {
     "duration": 0.036244,
     "end_time": "2022-11-29T03:37:40.466311",
     "exception": false,
     "start_time": "2022-11-29T03:37:40.430067",
     "status": "completed"
    },
    "tags": []
   },
   "outputs": [],
   "source": [
    "class Data(Dataset):\n",
    "    def __init__(self, base_model_dfs, config):\n",
    "        self.base_model_dfs = base_model_dfs\n",
    "        \n",
    "    def __len__(self):\n",
    "        return len(self.base_model_dfs[\"deberta-v3-large\"])\n",
    "\n",
    "    def __getitem__(self, idx):\n",
    "        \n",
    "        predictions = []\n",
    "        for model in self.base_model_dfs.values():\n",
    "            predictions.append(model.iloc[idx][1:].values.astype(float))\n",
    "        \n",
    "        return np.array(predictions).T"
   ]
  },
  {
   "cell_type": "code",
   "execution_count": 34,
   "id": "99238f05",
   "metadata": {
    "execution": {
     "iopub.execute_input": "2022-11-29T03:37:40.520919Z",
     "iopub.status.busy": "2022-11-29T03:37:40.520648Z",
     "iopub.status.idle": "2022-11-29T03:37:40.525304Z",
     "shell.execute_reply": "2022-11-29T03:37:40.524338Z"
    },
    "papermill": {
     "duration": 0.034349,
     "end_time": "2022-11-29T03:37:40.527337",
     "exception": false,
     "start_time": "2022-11-29T03:37:40.492988",
     "status": "completed"
    },
    "tags": []
   },
   "outputs": [],
   "source": [
    "def collate_dynamic_padding(batch):\n",
    "    \n",
    "    predictions = torch.tensor(batch)\n",
    "\n",
    "    return predictions"
   ]
  },
  {
   "cell_type": "code",
   "execution_count": 35,
   "id": "a33edb68",
   "metadata": {
    "execution": {
     "iopub.execute_input": "2022-11-29T03:37:40.581790Z",
     "iopub.status.busy": "2022-11-29T03:37:40.581537Z",
     "iopub.status.idle": "2022-11-29T03:37:40.660081Z",
     "shell.execute_reply": "2022-11-29T03:37:40.659213Z"
    },
    "papermill": {
     "duration": 0.108353,
     "end_time": "2022-11-29T03:37:40.662366",
     "exception": false,
     "start_time": "2022-11-29T03:37:40.554013",
     "status": "completed"
    },
    "tags": []
   },
   "outputs": [],
   "source": [
    "text_id = pd.read_csv(\"../input/feedback-prize-english-language-learning/test.csv\").drop(\"full_text\", axis = 1)\n",
    "\n",
    "base_model_dfs = {}\n",
    "for model in CFG[\"models\"]:\n",
    "    path = f\"./{model}.csv\"\n",
    "    base_model_dfs[model] = pd.read_csv(path)"
   ]
  },
  {
   "cell_type": "code",
   "execution_count": 36,
   "id": "e401d29f",
   "metadata": {
    "execution": {
     "iopub.execute_input": "2022-11-29T03:37:40.718214Z",
     "iopub.status.busy": "2022-11-29T03:37:40.717449Z",
     "iopub.status.idle": "2022-11-29T03:37:40.722042Z",
     "shell.execute_reply": "2022-11-29T03:37:40.721158Z"
    },
    "papermill": {
     "duration": 0.034391,
     "end_time": "2022-11-29T03:37:40.723945",
     "exception": false,
     "start_time": "2022-11-29T03:37:40.689554",
     "status": "completed"
    },
    "tags": []
   },
   "outputs": [],
   "source": [
    "train = Data(base_model_dfs, CFG)\n",
    "dataset = DataModule(CFG, train, collate_dynamic_padding)"
   ]
  },
  {
   "cell_type": "code",
   "execution_count": 37,
   "id": "f1eb83a9",
   "metadata": {
    "execution": {
     "iopub.execute_input": "2022-11-29T03:37:40.778384Z",
     "iopub.status.busy": "2022-11-29T03:37:40.778129Z",
     "iopub.status.idle": "2022-11-29T03:37:40.782407Z",
     "shell.execute_reply": "2022-11-29T03:37:40.781386Z"
    },
    "papermill": {
     "duration": 0.03401,
     "end_time": "2022-11-29T03:37:40.784653",
     "exception": false,
     "start_time": "2022-11-29T03:37:40.750643",
     "status": "completed"
    },
    "tags": []
   },
   "outputs": [],
   "source": [
    "test_loader = dataset.test_dataloader()"
   ]
  },
  {
   "cell_type": "code",
   "execution_count": 38,
   "id": "a582ef8a",
   "metadata": {
    "execution": {
     "iopub.execute_input": "2022-11-29T03:37:40.839788Z",
     "iopub.status.busy": "2022-11-29T03:37:40.839529Z",
     "iopub.status.idle": "2022-11-29T03:37:40.844613Z",
     "shell.execute_reply": "2022-11-29T03:37:40.843768Z"
    },
    "papermill": {
     "duration": 0.035423,
     "end_time": "2022-11-29T03:37:40.846675",
     "exception": false,
     "start_time": "2022-11-29T03:37:40.811252",
     "status": "completed"
    },
    "tags": []
   },
   "outputs": [],
   "source": [
    "stacker = Stacker(CFG, len(test_loader))"
   ]
  },
  {
   "cell_type": "code",
   "execution_count": 39,
   "id": "f41abe78",
   "metadata": {
    "execution": {
     "iopub.execute_input": "2022-11-29T03:37:40.901886Z",
     "iopub.status.busy": "2022-11-29T03:37:40.901609Z",
     "iopub.status.idle": "2022-11-29T03:37:40.911823Z",
     "shell.execute_reply": "2022-11-29T03:37:40.911022Z"
    },
    "papermill": {
     "duration": 0.040504,
     "end_time": "2022-11-29T03:37:40.913872",
     "exception": false,
     "start_time": "2022-11-29T03:37:40.873368",
     "status": "completed"
    },
    "tags": []
   },
   "outputs": [],
   "source": [
    "checkpoint = torch.load(f\"../input/downloading-stacking-linear6x/stacker-6x.pt\", map_location=torch.device('cpu'))"
   ]
  },
  {
   "cell_type": "code",
   "execution_count": 40,
   "id": "cc5a7a7e",
   "metadata": {
    "execution": {
     "iopub.execute_input": "2022-11-29T03:37:40.969076Z",
     "iopub.status.busy": "2022-11-29T03:37:40.968823Z",
     "iopub.status.idle": "2022-11-29T03:37:40.974782Z",
     "shell.execute_reply": "2022-11-29T03:37:40.973916Z"
    },
    "papermill": {
     "duration": 0.035794,
     "end_time": "2022-11-29T03:37:40.977050",
     "exception": false,
     "start_time": "2022-11-29T03:37:40.941256",
     "status": "completed"
    },
    "tags": []
   },
   "outputs": [
    {
     "data": {
      "text/plain": [
       "<All keys matched successfully>"
      ]
     },
     "execution_count": 40,
     "metadata": {},
     "output_type": "execute_result"
    }
   ],
   "source": [
    "stacker.load_state_dict(checkpoint['model_state_dict'], strict = False)"
   ]
  },
  {
   "cell_type": "code",
   "execution_count": 41,
   "id": "6724101d",
   "metadata": {
    "execution": {
     "iopub.execute_input": "2022-11-29T03:37:41.032452Z",
     "iopub.status.busy": "2022-11-29T03:37:41.032197Z",
     "iopub.status.idle": "2022-11-29T03:37:41.037033Z",
     "shell.execute_reply": "2022-11-29T03:37:41.036224Z"
    },
    "papermill": {
     "duration": 0.034959,
     "end_time": "2022-11-29T03:37:41.038990",
     "exception": false,
     "start_time": "2022-11-29T03:37:41.004031",
     "status": "completed"
    },
    "tags": []
   },
   "outputs": [],
   "source": [
    "device = torch.device('cuda')"
   ]
  },
  {
   "cell_type": "code",
   "execution_count": 42,
   "id": "c5c6429f",
   "metadata": {
    "execution": {
     "iopub.execute_input": "2022-11-29T03:37:41.093930Z",
     "iopub.status.busy": "2022-11-29T03:37:41.093653Z",
     "iopub.status.idle": "2022-11-29T03:37:41.097913Z",
     "shell.execute_reply": "2022-11-29T03:37:41.096990Z"
    },
    "papermill": {
     "duration": 0.033757,
     "end_time": "2022-11-29T03:37:41.099883",
     "exception": false,
     "start_time": "2022-11-29T03:37:41.066126",
     "status": "completed"
    },
    "tags": []
   },
   "outputs": [],
   "source": [
    "stacker = stacker.to(device).eval()"
   ]
  },
  {
   "cell_type": "code",
   "execution_count": 43,
   "id": "671fb05f",
   "metadata": {
    "execution": {
     "iopub.execute_input": "2022-11-29T03:37:41.154985Z",
     "iopub.status.busy": "2022-11-29T03:37:41.154711Z",
     "iopub.status.idle": "2022-11-29T03:37:41.178843Z",
     "shell.execute_reply": "2022-11-29T03:37:41.177643Z"
    },
    "papermill": {
     "duration": 0.054204,
     "end_time": "2022-11-29T03:37:41.180820",
     "exception": false,
     "start_time": "2022-11-29T03:37:41.126616",
     "status": "completed"
    },
    "tags": []
   },
   "outputs": [
    {
     "name": "stderr",
     "output_type": "stream",
     "text": [
      "/opt/conda/lib/python3.7/site-packages/ipykernel_launcher.py:3: UserWarning: Creating a tensor from a list of numpy.ndarrays is extremely slow. Please consider converting the list to a single numpy.ndarray with numpy.array() before converting to a tensor. (Triggered internally at  /usr/local/src/pytorch/torch/csrc/utils/tensor_new.cpp:207.)\n",
      "  This is separate from the ipykernel package so we can avoid doing imports until\n"
     ]
    }
   ],
   "source": [
    "final_predictions = []\n",
    "for batch in test_loader:\n",
    "    with torch.no_grad():\n",
    "        inputs = batch\n",
    "\n",
    "        inputs = inputs.to(device).to(torch.float32)\n",
    "        \n",
    "        y_hat = stacker(inputs).squeeze()\n",
    "    \n",
    "        final_predictions.append(y_hat)"
   ]
  },
  {
   "cell_type": "code",
   "execution_count": 44,
   "id": "64598aa0",
   "metadata": {
    "execution": {
     "iopub.execute_input": "2022-11-29T03:37:41.237528Z",
     "iopub.status.busy": "2022-11-29T03:37:41.236132Z",
     "iopub.status.idle": "2022-11-29T03:37:41.284439Z",
     "shell.execute_reply": "2022-11-29T03:37:41.283595Z"
    },
    "papermill": {
     "duration": 0.078576,
     "end_time": "2022-11-29T03:37:41.286533",
     "exception": false,
     "start_time": "2022-11-29T03:37:41.207957",
     "status": "completed"
    },
    "tags": []
   },
   "outputs": [
    {
     "data": {
      "text/plain": [
       "[tensor([[2.8891, 2.7693, 3.0555, 3.0300, 2.7272, 2.7012],\n",
       "         [2.6773, 2.4880, 2.7181, 2.4632, 2.1987, 2.7133],\n",
       "         [3.5766, 3.4281, 3.5467, 3.5945, 3.4269, 3.4317]], device='cuda:0')]"
      ]
     },
     "execution_count": 44,
     "metadata": {},
     "output_type": "execute_result"
    }
   ],
   "source": [
    "final_predictions"
   ]
  },
  {
   "cell_type": "code",
   "execution_count": 45,
   "id": "3feb1123",
   "metadata": {
    "execution": {
     "iopub.execute_input": "2022-11-29T03:37:41.343267Z",
     "iopub.status.busy": "2022-11-29T03:37:41.342469Z",
     "iopub.status.idle": "2022-11-29T03:37:41.347246Z",
     "shell.execute_reply": "2022-11-29T03:37:41.346388Z"
    },
    "papermill": {
     "duration": 0.034813,
     "end_time": "2022-11-29T03:37:41.349208",
     "exception": false,
     "start_time": "2022-11-29T03:37:41.314395",
     "status": "completed"
    },
    "tags": []
   },
   "outputs": [],
   "source": [
    "submission_preds = torch.cat(final_predictions).cpu().numpy()"
   ]
  },
  {
   "cell_type": "code",
   "execution_count": 46,
   "id": "4aab441e",
   "metadata": {
    "execution": {
     "iopub.execute_input": "2022-11-29T03:37:41.404657Z",
     "iopub.status.busy": "2022-11-29T03:37:41.404401Z",
     "iopub.status.idle": "2022-11-29T03:37:41.413334Z",
     "shell.execute_reply": "2022-11-29T03:37:41.412358Z"
    },
    "papermill": {
     "duration": 0.040377,
     "end_time": "2022-11-29T03:37:41.416544",
     "exception": false,
     "start_time": "2022-11-29T03:37:41.376167",
     "status": "completed"
    },
    "tags": []
   },
   "outputs": [
    {
     "data": {
      "text/plain": [
       "array([[2.8891196, 2.7692761, 3.055546 , 3.0299673, 2.7271621, 2.7011757],\n",
       "       [2.6773233, 2.487992 , 2.7180629, 2.4631908, 2.1986609, 2.71327  ],\n",
       "       [3.576643 , 3.4281452, 3.5466895, 3.594492 , 3.426944 , 3.4317079]],\n",
       "      dtype=float32)"
      ]
     },
     "execution_count": 46,
     "metadata": {},
     "output_type": "execute_result"
    }
   ],
   "source": [
    "submission_preds"
   ]
  },
  {
   "cell_type": "code",
   "execution_count": 47,
   "id": "14d194ff",
   "metadata": {
    "execution": {
     "iopub.execute_input": "2022-11-29T03:37:41.472323Z",
     "iopub.status.busy": "2022-11-29T03:37:41.472057Z",
     "iopub.status.idle": "2022-11-29T03:37:41.476775Z",
     "shell.execute_reply": "2022-11-29T03:37:41.475237Z"
    },
    "papermill": {
     "duration": 0.034806,
     "end_time": "2022-11-29T03:37:41.478748",
     "exception": false,
     "start_time": "2022-11-29T03:37:41.443942",
     "status": "completed"
    },
    "tags": []
   },
   "outputs": [],
   "source": [
    "submission = pd.DataFrame(text_id)"
   ]
  },
  {
   "cell_type": "code",
   "execution_count": 48,
   "id": "0862f2f8",
   "metadata": {
    "execution": {
     "iopub.execute_input": "2022-11-29T03:37:41.535143Z",
     "iopub.status.busy": "2022-11-29T03:37:41.534886Z",
     "iopub.status.idle": "2022-11-29T03:37:41.545407Z",
     "shell.execute_reply": "2022-11-29T03:37:41.544575Z"
    },
    "papermill": {
     "duration": 0.041092,
     "end_time": "2022-11-29T03:37:41.547371",
     "exception": false,
     "start_time": "2022-11-29T03:37:41.506279",
     "status": "completed"
    },
    "tags": []
   },
   "outputs": [],
   "source": [
    "submission[\"cohesion\"], submission[\"syntax\"], submission[\"vocabulary\"], submission[\"phraseology\"], submission[\"grammar\"], submission[\"conventions\"] = submission_preds[:,0], submission_preds[:,1], submission_preds[:,2], submission_preds[:,3], submission_preds[:,4], submission_preds[:,5]"
   ]
  },
  {
   "cell_type": "code",
   "execution_count": 49,
   "id": "20654eb9",
   "metadata": {
    "execution": {
     "iopub.execute_input": "2022-11-29T03:37:41.603524Z",
     "iopub.status.busy": "2022-11-29T03:37:41.603273Z",
     "iopub.status.idle": "2022-11-29T03:37:41.623875Z",
     "shell.execute_reply": "2022-11-29T03:37:41.622856Z"
    },
    "papermill": {
     "duration": 0.051079,
     "end_time": "2022-11-29T03:37:41.626113",
     "exception": false,
     "start_time": "2022-11-29T03:37:41.575034",
     "status": "completed"
    },
    "tags": []
   },
   "outputs": [
    {
     "data": {
      "text/html": [
       "<div>\n",
       "<style scoped>\n",
       "    .dataframe tbody tr th:only-of-type {\n",
       "        vertical-align: middle;\n",
       "    }\n",
       "\n",
       "    .dataframe tbody tr th {\n",
       "        vertical-align: top;\n",
       "    }\n",
       "\n",
       "    .dataframe thead th {\n",
       "        text-align: right;\n",
       "    }\n",
       "</style>\n",
       "<table border=\"1\" class=\"dataframe\">\n",
       "  <thead>\n",
       "    <tr style=\"text-align: right;\">\n",
       "      <th></th>\n",
       "      <th>text_id</th>\n",
       "      <th>cohesion</th>\n",
       "      <th>syntax</th>\n",
       "      <th>vocabulary</th>\n",
       "      <th>phraseology</th>\n",
       "      <th>grammar</th>\n",
       "      <th>conventions</th>\n",
       "    </tr>\n",
       "  </thead>\n",
       "  <tbody>\n",
       "    <tr>\n",
       "      <th>0</th>\n",
       "      <td>0000C359D63E</td>\n",
       "      <td>2.889120</td>\n",
       "      <td>2.769276</td>\n",
       "      <td>3.055546</td>\n",
       "      <td>3.029967</td>\n",
       "      <td>2.727162</td>\n",
       "      <td>2.701176</td>\n",
       "    </tr>\n",
       "    <tr>\n",
       "      <th>1</th>\n",
       "      <td>000BAD50D026</td>\n",
       "      <td>2.677323</td>\n",
       "      <td>2.487992</td>\n",
       "      <td>2.718063</td>\n",
       "      <td>2.463191</td>\n",
       "      <td>2.198661</td>\n",
       "      <td>2.713270</td>\n",
       "    </tr>\n",
       "    <tr>\n",
       "      <th>2</th>\n",
       "      <td>00367BB2546B</td>\n",
       "      <td>3.576643</td>\n",
       "      <td>3.428145</td>\n",
       "      <td>3.546690</td>\n",
       "      <td>3.594492</td>\n",
       "      <td>3.426944</td>\n",
       "      <td>3.431708</td>\n",
       "    </tr>\n",
       "  </tbody>\n",
       "</table>\n",
       "</div>"
      ],
      "text/plain": [
       "        text_id  cohesion    syntax  vocabulary  phraseology   grammar  \\\n",
       "0  0000C359D63E  2.889120  2.769276    3.055546     3.029967  2.727162   \n",
       "1  000BAD50D026  2.677323  2.487992    2.718063     2.463191  2.198661   \n",
       "2  00367BB2546B  3.576643  3.428145    3.546690     3.594492  3.426944   \n",
       "\n",
       "   conventions  \n",
       "0     2.701176  \n",
       "1     2.713270  \n",
       "2     3.431708  "
      ]
     },
     "execution_count": 49,
     "metadata": {},
     "output_type": "execute_result"
    }
   ],
   "source": [
    "submission"
   ]
  },
  {
   "cell_type": "code",
   "execution_count": 50,
   "id": "babe407b",
   "metadata": {
    "execution": {
     "iopub.execute_input": "2022-11-29T03:37:41.709900Z",
     "iopub.status.busy": "2022-11-29T03:37:41.709591Z",
     "iopub.status.idle": "2022-11-29T03:37:41.716430Z",
     "shell.execute_reply": "2022-11-29T03:37:41.715496Z"
    },
    "papermill": {
     "duration": 0.055475,
     "end_time": "2022-11-29T03:37:41.718330",
     "exception": false,
     "start_time": "2022-11-29T03:37:41.662855",
     "status": "completed"
    },
    "tags": []
   },
   "outputs": [],
   "source": [
    "submission.to_csv(\"submission.csv\", index = False)"
   ]
  },
  {
   "cell_type": "code",
   "execution_count": null,
   "id": "df7c8c5b",
   "metadata": {
    "papermill": {
     "duration": 0.027611,
     "end_time": "2022-11-29T03:37:41.773623",
     "exception": false,
     "start_time": "2022-11-29T03:37:41.746012",
     "status": "completed"
    },
    "tags": []
   },
   "outputs": [],
   "source": []
  }
 ],
 "metadata": {
  "kernelspec": {
   "display_name": "Python 3",
   "language": "python",
   "name": "python3"
  },
  "language_info": {
   "codemirror_mode": {
    "name": "ipython",
    "version": 3
   },
   "file_extension": ".py",
   "mimetype": "text/x-python",
   "name": "python",
   "nbconvert_exporter": "python",
   "pygments_lexer": "ipython3",
   "version": "3.7.12"
  },
  "papermill": {
   "default_parameters": {},
   "duration": 3010.572829,
   "end_time": "2022-11-29T03:37:44.827598",
   "environment_variables": {},
   "exception": null,
   "input_path": "__notebook__.ipynb",
   "output_path": "__notebook__.ipynb",
   "parameters": {},
   "start_time": "2022-11-29T02:47:34.254769",
   "version": "2.3.4"
  }
 },
 "nbformat": 4,
 "nbformat_minor": 5
}
